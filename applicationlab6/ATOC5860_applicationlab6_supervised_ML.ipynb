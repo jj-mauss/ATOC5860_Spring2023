{
  "cells": [
    {
      "cell_type": "markdown",
      "metadata": {
        "id": "aAS_jK1mW1fp"
      },
      "source": [
        "#  ATOC5860 Application Lab #6 - supervised_ML\n",
        "##### Written by Dr. Middlemas (formerly CU, now PricewaterhouseCoopers) with commenting from Prof. Kay (CU)\n",
        "##### last updated April 18, 2023 - works with environment - environment.yml\n",
        "\n",
        "### LEARNING GOALS:\n",
        "1.\tBuild familiarity with the data processing pipeline (workflow) required to utilize supervised machine learning techniques.\n",
        "2.\tImplement and compare four different supervised learning algorithms \n",
        "3.\tUnderstanding two outcomes of supervised learning algorithms: prediction and feature importance.\n",
        "4.\tStart building a foundation for future machine learning including the following terms: cross-validation, training vs. testing data, metrics (accuracy, recall, precision, f1 score, etc.), overfitting/underfitting, balancing datasets, hyperparameters, & feature importance.  Some future learning resources are provided… but there’s a lot available!  Share resources you find valuable.\n",
        "\n",
        "### DATA and UNDERLYING SCIENCE MOTIVATION:  \n",
        "\n",
        "We will use the Christman dataset which contains weather observations from Fort Collins, Colorado for the year 2016. We will build and train four machine learning models to predict something we already know from the dataset: Is it raining?. The point is not to conduct cutting-edge research or make novel predictions. Instead, the purpose here is to showcase supervised machine learning (ML) models and methods. By the end, we hope you can walk away with more confidence to learn and apply these tools to new problems.\n",
        "\n",
        "Let's say you want to determine which features or atmospheric variables are the best predictors of rainfall. Often, one simply regresses some metric of precipitation onto various atmospheric variables. Then, you assume that whatever returns the highest regression coefficient is the best predictor. While this approach with linear regression presents a fine first guess, it poses a few problems. Linear regression assumes: 1) atmospheric variables are linearly related to precipitation, 2) atmospheric variables are uncorrelated. Yet, both are false assumptions. While a linear relationship between predictor & predictand is a good first guess, why limit yourself to linearity when you can just as easily relax that assumption using supervised Machine Learning... \n",
        "\n",
        "This notebook will step through the following Machine Learning model pipeline:\n",
        "\n",
        "In this notebook, we will use supervised machine learning to **predict the likelihood of rainfall given certain atmospheric conditions**.  After prepping the data, we will build and train four supervised machine learning models to make the predictions: Logistic regression, Random Forest, Singular vector machines/classifier, Neural Network. Finally, we will determine which variable (\"feature\") is the best predictor of rainfall, i.e., we will assess \"feature importance\".\n",
        "\n",
        "Pros/Cons of the supervised machine learning models implemented here:\n",
        "1.\tLogistic regression tends to overgeneralize or underfit data, but is easy to implement, to understand and easy to back out feature importance.\n",
        "2.\tSingular Vector Machines are great at capturing complex relationships, but cannot back out feature importance. Plus, the use of the kernel makes them hard to interpret.\n",
        "3.\tRandom forests are easier to understand, generally do not overfit, and can capture complex relationships, and can provide feature importance, but they can be slow to train and there are a lot of hyperparameters to choose from.\n",
        "4.\tNeural Networks are great at capturing complex relationships. But they are slow to train and are susceptible to overfitting.\n",
        "\n",
        "**Questions to guide your analysis** \n",
        "\n",
        "1) Which machine learning model performs the best to predict rainfall?  What metrics did you use to make this assessment?\n",
        "\n",
        "Singular Vector Machine and Neural Network performed best with high metrics across all of accuracy, recall, and prediction example. Logistic Regression had a poorer prediction example and random forest was poor across all three metrics.\n",
        "\n",
        "2) Describe the difference between accuracy and recall.  Why did we choose to use accuracy, recall, and predicted precipitation probability as a way to compare models?  In forecasting: when is a false positive (you said it would rain, it didn’t rain) preferred over a false negative (you said it wouldn’t rain, it did rain)? \n",
        "\n",
        "Accuracy is just the number of correct predictions made out of total predictions. Recall is how many rainy days were predicted correctly amongst the total rainy days. Precision is the number of predicted rainy events that are raining amongst all predicted rainy events. In forecasting a false positive is preferred to a false negative when it comes to severe weather events that can threaten human life and infrastructure—while a false positive is still not ideal, it does not involve as many people potentially getting hurt.\n",
        "\n",
        "3) One important \"gotcha\" in a machine learning workflow or pipeline is the order of data preparation. Why should one should perform the train-test split before feature scaling and rebalancing? Hint: think about using a trained model for future predictions. Do you want your scaling of the testing data to depend on the training data? Why perform a test-train split at all? \n",
        "\n",
        "You should do the train-test split first because you don’t want either your train or test set to not be balanced just by the randomness of what is selected to go into each data set.\n",
        "\n",
        "4) Collinearity, or non-zero correlation among features, results in a model that is overly complex, reduces the statistical significance of the fit of the model, and prevents one from correctly identifying the importance of features. Are there features included in our machine learning models to predict rain in the Christman dataset that are collinear? If so, how do you think we should address this collinearity? A couple of suggestions: If we don't have that many features, we could use our meteorological expertise to simply remove one of the features that shares collinearity with other features. Another way to address collinearity is to use feature regularization, or add weights that penalize features that add noise, ultimately reducing model complexity.\n",
        "\n",
        "Wind gust and wind speed are certainly colinear—it would probably be better to just use one rather than both of them. Or there may be a more clever solution where we use the difference between wind speed and wind gust speed rather than solely wind gust speed as that difference may be important.\n"
      ],
      "id": "aAS_jK1mW1fp"
    },
    {
      "cell_type": "code",
      "execution_count": 7,
      "metadata": {
        "id": "MYadbQQGW1fz"
      },
      "outputs": [],
      "source": [
        "import pandas as pd\n",
        "import numpy as np\n",
        "import datetime\n",
        "import time"
      ],
      "id": "MYadbQQGW1fz"
    },
    {
      "cell_type": "markdown",
      "metadata": {
        "id": "lHJ6KOS-W1f1"
      },
      "source": [],
      "id": "lHJ6KOS-W1f1"
    },
    {
      "cell_type": "markdown",
      "metadata": {
        "id": "kzMpekyGW1f3"
      },
      "source": [
        "## STEP 1: Read in the Data into a pandas dataframe and Look At It"
      ],
      "id": "kzMpekyGW1f3"
    },
    {
      "cell_type": "code",
      "source": [
        "from google.colab import drive\n",
        "drive.mount('/content/gdrive')"
      ],
      "metadata": {
        "colab": {
          "base_uri": "https://localhost:8080/"
        },
        "id": "bxMFIzD0W6RJ",
        "outputId": "960a80b7-a67b-41af-8579-dbbc895f49e5"
      },
      "id": "bxMFIzD0W6RJ",
      "execution_count": 8,
      "outputs": [
        {
          "output_type": "stream",
          "name": "stdout",
          "text": [
            "Drive already mounted at /content/gdrive; to attempt to forcibly remount, call drive.mount(\"/content/gdrive\", force_remount=True).\n"
          ]
        }
      ]
    },
    {
      "cell_type": "code",
      "source": [
        "!pwd"
      ],
      "metadata": {
        "colab": {
          "base_uri": "https://localhost:8080/"
        },
        "id": "wBPQqrKtW92q",
        "outputId": "fcfe5f89-876a-42c4-c927-c71fae6a5caf"
      },
      "id": "wBPQqrKtW92q",
      "execution_count": 9,
      "outputs": [
        {
          "output_type": "stream",
          "name": "stdout",
          "text": [
            "/content/gdrive/My Drive/Classes/ATOC_5860-ObjDataAnalysis\n"
          ]
        }
      ]
    },
    {
      "cell_type": "code",
      "source": [
        "%cd /content/gdrive/My Drive/Classes/ATOC_5860-ObjDataAnalysis"
      ],
      "metadata": {
        "colab": {
          "base_uri": "https://localhost:8080/"
        },
        "id": "KWtXmXSfW_Ze",
        "outputId": "b66b2770-b69f-46b1-dd78-6be1461b67a5"
      },
      "id": "KWtXmXSfW_Ze",
      "execution_count": 10,
      "outputs": [
        {
          "output_type": "stream",
          "name": "stdout",
          "text": [
            "/content/gdrive/My Drive/Classes/ATOC_5860-ObjDataAnalysis\n"
          ]
        }
      ]
    },
    {
      "cell_type": "code",
      "execution_count": 11,
      "metadata": {
        "colab": {
          "base_uri": "https://localhost:8080/",
          "height": 424
        },
        "id": "A7hQPIh2W1f4",
        "outputId": "398db231-4c42-4814-bc77-7a815e078c24"
      },
      "outputs": [
        {
          "output_type": "execute_result",
          "data": {
            "text/plain": [
              "        day      hour  temp_F    RH  dewtemp_F  wind_mph  wind_dir  windgust  \\\n",
              "0     42370  0.000000     7.0  72.2       -0.1       1.2       234       3.9   \n",
              "1     42370  0.041667     5.4  74.3       -1.0       3.4       299       7.1   \n",
              "2     42370  0.083333     6.4  73.8       -0.2       2.8       200       7.0   \n",
              "3     42370  0.125000     3.0  73.5       -3.6       2.9       309       6.1   \n",
              "4     42370  0.166667     3.7  76.9       -1.9       3.1       346       5.3   \n",
              "...     ...       ...     ...   ...        ...       ...       ...       ...   \n",
              "8779  42735  0.791667    22.3  74.3       15.4       0.9       221       3.3   \n",
              "8780  42735  0.833333    20.3  80.4       15.3       0.6       279       2.9   \n",
              "8781  42735  0.875000    19.9  81.1       15.1       0.5       197       2.5   \n",
              "8782  42735  0.916667    17.8  82.8       13.5       2.0       353       4.8   \n",
              "8783  42735  0.958333    16.3  84.1       12.4       1.0       191       4.9   \n",
              "\n",
              "      windgust_dir  pres_Hg  SOLIN_Wm2  Prec_inches  \n",
              "0              224   851.30        0.0          0.0  \n",
              "1              302   850.82        0.0          0.0  \n",
              "2              301   849.83        0.0          0.0  \n",
              "3              349   850.69        0.0          0.0  \n",
              "4              255   848.24        0.0          0.0  \n",
              "...            ...      ...        ...          ...  \n",
              "8779           202   833.32        0.0          0.0  \n",
              "8780           279   833.45        0.1          0.0  \n",
              "8781           279   833.01        0.1          0.0  \n",
              "8782           352   832.78        0.1          0.0  \n",
              "8783           353   832.62        0.0          0.0  \n",
              "\n",
              "[8784 rows x 12 columns]"
            ],
            "text/html": [
              "\n",
              "  <div id=\"df-6e76279e-3e29-4b98-826e-c787fa5f1e14\">\n",
              "    <div class=\"colab-df-container\">\n",
              "      <div>\n",
              "<style scoped>\n",
              "    .dataframe tbody tr th:only-of-type {\n",
              "        vertical-align: middle;\n",
              "    }\n",
              "\n",
              "    .dataframe tbody tr th {\n",
              "        vertical-align: top;\n",
              "    }\n",
              "\n",
              "    .dataframe thead th {\n",
              "        text-align: right;\n",
              "    }\n",
              "</style>\n",
              "<table border=\"1\" class=\"dataframe\">\n",
              "  <thead>\n",
              "    <tr style=\"text-align: right;\">\n",
              "      <th></th>\n",
              "      <th>day</th>\n",
              "      <th>hour</th>\n",
              "      <th>temp_F</th>\n",
              "      <th>RH</th>\n",
              "      <th>dewtemp_F</th>\n",
              "      <th>wind_mph</th>\n",
              "      <th>wind_dir</th>\n",
              "      <th>windgust</th>\n",
              "      <th>windgust_dir</th>\n",
              "      <th>pres_Hg</th>\n",
              "      <th>SOLIN_Wm2</th>\n",
              "      <th>Prec_inches</th>\n",
              "    </tr>\n",
              "  </thead>\n",
              "  <tbody>\n",
              "    <tr>\n",
              "      <th>0</th>\n",
              "      <td>42370</td>\n",
              "      <td>0.000000</td>\n",
              "      <td>7.0</td>\n",
              "      <td>72.2</td>\n",
              "      <td>-0.1</td>\n",
              "      <td>1.2</td>\n",
              "      <td>234</td>\n",
              "      <td>3.9</td>\n",
              "      <td>224</td>\n",
              "      <td>851.30</td>\n",
              "      <td>0.0</td>\n",
              "      <td>0.0</td>\n",
              "    </tr>\n",
              "    <tr>\n",
              "      <th>1</th>\n",
              "      <td>42370</td>\n",
              "      <td>0.041667</td>\n",
              "      <td>5.4</td>\n",
              "      <td>74.3</td>\n",
              "      <td>-1.0</td>\n",
              "      <td>3.4</td>\n",
              "      <td>299</td>\n",
              "      <td>7.1</td>\n",
              "      <td>302</td>\n",
              "      <td>850.82</td>\n",
              "      <td>0.0</td>\n",
              "      <td>0.0</td>\n",
              "    </tr>\n",
              "    <tr>\n",
              "      <th>2</th>\n",
              "      <td>42370</td>\n",
              "      <td>0.083333</td>\n",
              "      <td>6.4</td>\n",
              "      <td>73.8</td>\n",
              "      <td>-0.2</td>\n",
              "      <td>2.8</td>\n",
              "      <td>200</td>\n",
              "      <td>7.0</td>\n",
              "      <td>301</td>\n",
              "      <td>849.83</td>\n",
              "      <td>0.0</td>\n",
              "      <td>0.0</td>\n",
              "    </tr>\n",
              "    <tr>\n",
              "      <th>3</th>\n",
              "      <td>42370</td>\n",
              "      <td>0.125000</td>\n",
              "      <td>3.0</td>\n",
              "      <td>73.5</td>\n",
              "      <td>-3.6</td>\n",
              "      <td>2.9</td>\n",
              "      <td>309</td>\n",
              "      <td>6.1</td>\n",
              "      <td>349</td>\n",
              "      <td>850.69</td>\n",
              "      <td>0.0</td>\n",
              "      <td>0.0</td>\n",
              "    </tr>\n",
              "    <tr>\n",
              "      <th>4</th>\n",
              "      <td>42370</td>\n",
              "      <td>0.166667</td>\n",
              "      <td>3.7</td>\n",
              "      <td>76.9</td>\n",
              "      <td>-1.9</td>\n",
              "      <td>3.1</td>\n",
              "      <td>346</td>\n",
              "      <td>5.3</td>\n",
              "      <td>255</td>\n",
              "      <td>848.24</td>\n",
              "      <td>0.0</td>\n",
              "      <td>0.0</td>\n",
              "    </tr>\n",
              "    <tr>\n",
              "      <th>...</th>\n",
              "      <td>...</td>\n",
              "      <td>...</td>\n",
              "      <td>...</td>\n",
              "      <td>...</td>\n",
              "      <td>...</td>\n",
              "      <td>...</td>\n",
              "      <td>...</td>\n",
              "      <td>...</td>\n",
              "      <td>...</td>\n",
              "      <td>...</td>\n",
              "      <td>...</td>\n",
              "      <td>...</td>\n",
              "    </tr>\n",
              "    <tr>\n",
              "      <th>8779</th>\n",
              "      <td>42735</td>\n",
              "      <td>0.791667</td>\n",
              "      <td>22.3</td>\n",
              "      <td>74.3</td>\n",
              "      <td>15.4</td>\n",
              "      <td>0.9</td>\n",
              "      <td>221</td>\n",
              "      <td>3.3</td>\n",
              "      <td>202</td>\n",
              "      <td>833.32</td>\n",
              "      <td>0.0</td>\n",
              "      <td>0.0</td>\n",
              "    </tr>\n",
              "    <tr>\n",
              "      <th>8780</th>\n",
              "      <td>42735</td>\n",
              "      <td>0.833333</td>\n",
              "      <td>20.3</td>\n",
              "      <td>80.4</td>\n",
              "      <td>15.3</td>\n",
              "      <td>0.6</td>\n",
              "      <td>279</td>\n",
              "      <td>2.9</td>\n",
              "      <td>279</td>\n",
              "      <td>833.45</td>\n",
              "      <td>0.1</td>\n",
              "      <td>0.0</td>\n",
              "    </tr>\n",
              "    <tr>\n",
              "      <th>8781</th>\n",
              "      <td>42735</td>\n",
              "      <td>0.875000</td>\n",
              "      <td>19.9</td>\n",
              "      <td>81.1</td>\n",
              "      <td>15.1</td>\n",
              "      <td>0.5</td>\n",
              "      <td>197</td>\n",
              "      <td>2.5</td>\n",
              "      <td>279</td>\n",
              "      <td>833.01</td>\n",
              "      <td>0.1</td>\n",
              "      <td>0.0</td>\n",
              "    </tr>\n",
              "    <tr>\n",
              "      <th>8782</th>\n",
              "      <td>42735</td>\n",
              "      <td>0.916667</td>\n",
              "      <td>17.8</td>\n",
              "      <td>82.8</td>\n",
              "      <td>13.5</td>\n",
              "      <td>2.0</td>\n",
              "      <td>353</td>\n",
              "      <td>4.8</td>\n",
              "      <td>352</td>\n",
              "      <td>832.78</td>\n",
              "      <td>0.1</td>\n",
              "      <td>0.0</td>\n",
              "    </tr>\n",
              "    <tr>\n",
              "      <th>8783</th>\n",
              "      <td>42735</td>\n",
              "      <td>0.958333</td>\n",
              "      <td>16.3</td>\n",
              "      <td>84.1</td>\n",
              "      <td>12.4</td>\n",
              "      <td>1.0</td>\n",
              "      <td>191</td>\n",
              "      <td>4.9</td>\n",
              "      <td>353</td>\n",
              "      <td>832.62</td>\n",
              "      <td>0.0</td>\n",
              "      <td>0.0</td>\n",
              "    </tr>\n",
              "  </tbody>\n",
              "</table>\n",
              "<p>8784 rows × 12 columns</p>\n",
              "</div>\n",
              "      <button class=\"colab-df-convert\" onclick=\"convertToInteractive('df-6e76279e-3e29-4b98-826e-c787fa5f1e14')\"\n",
              "              title=\"Convert this dataframe to an interactive table.\"\n",
              "              style=\"display:none;\">\n",
              "        \n",
              "  <svg xmlns=\"http://www.w3.org/2000/svg\" height=\"24px\"viewBox=\"0 0 24 24\"\n",
              "       width=\"24px\">\n",
              "    <path d=\"M0 0h24v24H0V0z\" fill=\"none\"/>\n",
              "    <path d=\"M18.56 5.44l.94 2.06.94-2.06 2.06-.94-2.06-.94-.94-2.06-.94 2.06-2.06.94zm-11 1L8.5 8.5l.94-2.06 2.06-.94-2.06-.94L8.5 2.5l-.94 2.06-2.06.94zm10 10l.94 2.06.94-2.06 2.06-.94-2.06-.94-.94-2.06-.94 2.06-2.06.94z\"/><path d=\"M17.41 7.96l-1.37-1.37c-.4-.4-.92-.59-1.43-.59-.52 0-1.04.2-1.43.59L10.3 9.45l-7.72 7.72c-.78.78-.78 2.05 0 2.83L4 21.41c.39.39.9.59 1.41.59.51 0 1.02-.2 1.41-.59l7.78-7.78 2.81-2.81c.8-.78.8-2.07 0-2.86zM5.41 20L4 18.59l7.72-7.72 1.47 1.35L5.41 20z\"/>\n",
              "  </svg>\n",
              "      </button>\n",
              "      \n",
              "  <style>\n",
              "    .colab-df-container {\n",
              "      display:flex;\n",
              "      flex-wrap:wrap;\n",
              "      gap: 12px;\n",
              "    }\n",
              "\n",
              "    .colab-df-convert {\n",
              "      background-color: #E8F0FE;\n",
              "      border: none;\n",
              "      border-radius: 50%;\n",
              "      cursor: pointer;\n",
              "      display: none;\n",
              "      fill: #1967D2;\n",
              "      height: 32px;\n",
              "      padding: 0 0 0 0;\n",
              "      width: 32px;\n",
              "    }\n",
              "\n",
              "    .colab-df-convert:hover {\n",
              "      background-color: #E2EBFA;\n",
              "      box-shadow: 0px 1px 2px rgba(60, 64, 67, 0.3), 0px 1px 3px 1px rgba(60, 64, 67, 0.15);\n",
              "      fill: #174EA6;\n",
              "    }\n",
              "\n",
              "    [theme=dark] .colab-df-convert {\n",
              "      background-color: #3B4455;\n",
              "      fill: #D2E3FC;\n",
              "    }\n",
              "\n",
              "    [theme=dark] .colab-df-convert:hover {\n",
              "      background-color: #434B5C;\n",
              "      box-shadow: 0px 1px 3px 1px rgba(0, 0, 0, 0.15);\n",
              "      filter: drop-shadow(0px 1px 2px rgba(0, 0, 0, 0.3));\n",
              "      fill: #FFFFFF;\n",
              "    }\n",
              "  </style>\n",
              "\n",
              "      <script>\n",
              "        const buttonEl =\n",
              "          document.querySelector('#df-6e76279e-3e29-4b98-826e-c787fa5f1e14 button.colab-df-convert');\n",
              "        buttonEl.style.display =\n",
              "          google.colab.kernel.accessAllowed ? 'block' : 'none';\n",
              "\n",
              "        async function convertToInteractive(key) {\n",
              "          const element = document.querySelector('#df-6e76279e-3e29-4b98-826e-c787fa5f1e14');\n",
              "          const dataTable =\n",
              "            await google.colab.kernel.invokeFunction('convertToInteractive',\n",
              "                                                     [key], {});\n",
              "          if (!dataTable) return;\n",
              "\n",
              "          const docLinkHtml = 'Like what you see? Visit the ' +\n",
              "            '<a target=\"_blank\" href=https://colab.research.google.com/notebooks/data_table.ipynb>data table notebook</a>'\n",
              "            + ' to learn more about interactive tables.';\n",
              "          element.innerHTML = '';\n",
              "          dataTable['output_type'] = 'display_data';\n",
              "          await google.colab.output.renderOutput(dataTable, element);\n",
              "          const docLink = document.createElement('div');\n",
              "          docLink.innerHTML = docLinkHtml;\n",
              "          element.appendChild(docLink);\n",
              "        }\n",
              "      </script>\n",
              "    </div>\n",
              "  </div>\n",
              "  "
            ]
          },
          "metadata": {},
          "execution_count": 11
        }
      ],
      "source": [
        "# read in the data\n",
        "df = pd.read_csv(\"christman_2016.csv\")\n",
        "# preview data (also through df.head() & df.tail())\n",
        "df"
      ],
      "id": "A7hQPIh2W1f4"
    },
    {
      "cell_type": "code",
      "execution_count": 12,
      "metadata": {
        "colab": {
          "base_uri": "https://localhost:8080/"
        },
        "id": "lGnX3AKPW1f5",
        "outputId": "44e2dab6-3655-454c-9c23-ac128cc59ae0"
      },
      "outputs": [
        {
          "output_type": "execute_result",
          "data": {
            "text/plain": [
              "366"
            ]
          },
          "metadata": {},
          "execution_count": 12
        }
      ],
      "source": [
        "df.day.nunique() ## Print the answer to: How many days are in this dataset?"
      ],
      "id": "lGnX3AKPW1f5"
    },
    {
      "cell_type": "code",
      "execution_count": 13,
      "metadata": {
        "id": "8OLXY44oW1f6"
      },
      "outputs": [],
      "source": [
        "##Optional: transform the day column into a readable date. Run this ONCE.\n",
        "df['day'] = [datetime.date.fromordinal(day+693594) for day in df['day']]"
      ],
      "id": "8OLXY44oW1f6"
    },
    {
      "cell_type": "markdown",
      "metadata": {
        "id": "Sf3UP8IuW1f7"
      },
      "source": [
        "## STEP 2: Data and Function Preparation\n",
        "\n",
        "Data preparation is a huge part of building Machine Learning model \"pipelines\". Carefully think through building & training a Machine Learning model before you run it. There are a few statistical \"gotchas\" that may result in your model being biased, inaccurate, or not suitable for the problem at hand.  Address these 6 questions!\n",
        "\n",
        "**Q1: What exactly are we trying to predict? A value, an outcome, a category?** Define your predictors and predictand. Relate these to your hypothesis or overarching question. In our case, our predictand is the likelihood of precipitation. We will build models to predict the likelihood that it's currently precipitating, given current atmospheric conditions.\n",
        "\n",
        "**Q2: Do you have any missing data? If so, how will you handle them?** Keep in mind, decreasing the number of input observations may bias your model. Using the Christman dataset, we have no missing data.\n",
        "\n",
        "**Q3: Do you have any categorical or non-numeric variables or features?** If so, you must figure out how to encode them into numbers. Luckily, in the geosciences, we rarely run into this problem.\n",
        "\n",
        "**Q4: How will we validate our model?** Typically, people split their existing data into training data and testing data, or perform \"cross-validation\" or a \"test-train split\". That is, we will \"hold out\" some data and call it our \"testing data\", while using the rest of the data to train our model (i.e., \"training data\"). Once our model is trained, we will evaluate its performance with the holdout testing data. Note: This could be problematic if there is limited data.\n",
        "\n",
        "**Q5: Do your features have the same variance?** You need to consider this to ensure your model doesn't overly depend on one variable with large variance. This step is called \"feature scaling\". Features of the same size also speed up the Gradient Descent algorithm.\n",
        "\n",
        "**Q6: If classification is the goal, are there the same number of observations for each feature and outcome? If not, how will you rebalance?** Here, the Christman dataset has same number of observations (8784) for each feature. But, times with no precipitation are way more common than times with precipitation. To deal with this issue, we will oversample the observations associated with precip so that the two outcomes (or \"classes\") are equal. Note: It's important that feature scaling or normalization is performed before any rebalancing so that the qualitative statistics (mean, stddev, etc) remain the same.\n",
        "\n",
        "**Q7: Which metrics are appropriate for assessing your model?** Consider the bias-variance trade-off, and whether having false positives or false negatives is more impactful. In our case, predicting no rain when there is rain (false negative) is probably more frustrating and potentially more impactful than the other way around (a false positive)."
      ],
      "id": "Sf3UP8IuW1f7"
    },
    {
      "cell_type": "markdown",
      "metadata": {
        "id": "TUZGXpaZW1f9"
      },
      "source": [
        "**Q1. What exactly are you trying to predict?**\n",
        "\n",
        "First, split data into predictor & predictands. "
      ],
      "id": "TUZGXpaZW1f9"
    },
    {
      "cell_type": "code",
      "execution_count": 14,
      "metadata": {
        "id": "_fH6gNhsW1gA"
      },
      "outputs": [],
      "source": [
        "##Create a new feature that indicates whether precipitation occurred. Perform this step ONCE.\n",
        "#print(df.columns) # print if you need to see what is the variable called that indicates precipitation amount?\n",
        "df['prec_occur'] = np.array(df.Prec_inches!=0).astype(int)"
      ],
      "id": "_fH6gNhsW1gA"
    },
    {
      "cell_type": "code",
      "execution_count": 15,
      "metadata": {
        "colab": {
          "base_uri": "https://localhost:8080/",
          "height": 424
        },
        "id": "aZ0dOh18W1gC",
        "outputId": "f30760b4-23f6-4e33-e73e-88efeaf6ba18"
      },
      "outputs": [
        {
          "output_type": "execute_result",
          "data": {
            "text/plain": [
              "      temp_F    RH  dewtemp_F  wind_mph  wind_dir  windgust  windgust_dir  \\\n",
              "0        7.0  72.2       -0.1       1.2       234       3.9           224   \n",
              "1        5.4  74.3       -1.0       3.4       299       7.1           302   \n",
              "2        6.4  73.8       -0.2       2.8       200       7.0           301   \n",
              "3        3.0  73.5       -3.6       2.9       309       6.1           349   \n",
              "4        3.7  76.9       -1.9       3.1       346       5.3           255   \n",
              "...      ...   ...        ...       ...       ...       ...           ...   \n",
              "8779    22.3  74.3       15.4       0.9       221       3.3           202   \n",
              "8780    20.3  80.4       15.3       0.6       279       2.9           279   \n",
              "8781    19.9  81.1       15.1       0.5       197       2.5           279   \n",
              "8782    17.8  82.8       13.5       2.0       353       4.8           352   \n",
              "8783    16.3  84.1       12.4       1.0       191       4.9           353   \n",
              "\n",
              "      pres_Hg  SOLIN_Wm2  prec_occur  \n",
              "0      851.30        0.0           0  \n",
              "1      850.82        0.0           0  \n",
              "2      849.83        0.0           0  \n",
              "3      850.69        0.0           0  \n",
              "4      848.24        0.0           0  \n",
              "...       ...        ...         ...  \n",
              "8779   833.32        0.0           0  \n",
              "8780   833.45        0.1           0  \n",
              "8781   833.01        0.1           0  \n",
              "8782   832.78        0.1           0  \n",
              "8783   832.62        0.0           0  \n",
              "\n",
              "[8784 rows x 10 columns]"
            ],
            "text/html": [
              "\n",
              "  <div id=\"df-bec7614b-1ebc-458c-944e-d23e30ea2a78\">\n",
              "    <div class=\"colab-df-container\">\n",
              "      <div>\n",
              "<style scoped>\n",
              "    .dataframe tbody tr th:only-of-type {\n",
              "        vertical-align: middle;\n",
              "    }\n",
              "\n",
              "    .dataframe tbody tr th {\n",
              "        vertical-align: top;\n",
              "    }\n",
              "\n",
              "    .dataframe thead th {\n",
              "        text-align: right;\n",
              "    }\n",
              "</style>\n",
              "<table border=\"1\" class=\"dataframe\">\n",
              "  <thead>\n",
              "    <tr style=\"text-align: right;\">\n",
              "      <th></th>\n",
              "      <th>temp_F</th>\n",
              "      <th>RH</th>\n",
              "      <th>dewtemp_F</th>\n",
              "      <th>wind_mph</th>\n",
              "      <th>wind_dir</th>\n",
              "      <th>windgust</th>\n",
              "      <th>windgust_dir</th>\n",
              "      <th>pres_Hg</th>\n",
              "      <th>SOLIN_Wm2</th>\n",
              "      <th>prec_occur</th>\n",
              "    </tr>\n",
              "  </thead>\n",
              "  <tbody>\n",
              "    <tr>\n",
              "      <th>0</th>\n",
              "      <td>7.0</td>\n",
              "      <td>72.2</td>\n",
              "      <td>-0.1</td>\n",
              "      <td>1.2</td>\n",
              "      <td>234</td>\n",
              "      <td>3.9</td>\n",
              "      <td>224</td>\n",
              "      <td>851.30</td>\n",
              "      <td>0.0</td>\n",
              "      <td>0</td>\n",
              "    </tr>\n",
              "    <tr>\n",
              "      <th>1</th>\n",
              "      <td>5.4</td>\n",
              "      <td>74.3</td>\n",
              "      <td>-1.0</td>\n",
              "      <td>3.4</td>\n",
              "      <td>299</td>\n",
              "      <td>7.1</td>\n",
              "      <td>302</td>\n",
              "      <td>850.82</td>\n",
              "      <td>0.0</td>\n",
              "      <td>0</td>\n",
              "    </tr>\n",
              "    <tr>\n",
              "      <th>2</th>\n",
              "      <td>6.4</td>\n",
              "      <td>73.8</td>\n",
              "      <td>-0.2</td>\n",
              "      <td>2.8</td>\n",
              "      <td>200</td>\n",
              "      <td>7.0</td>\n",
              "      <td>301</td>\n",
              "      <td>849.83</td>\n",
              "      <td>0.0</td>\n",
              "      <td>0</td>\n",
              "    </tr>\n",
              "    <tr>\n",
              "      <th>3</th>\n",
              "      <td>3.0</td>\n",
              "      <td>73.5</td>\n",
              "      <td>-3.6</td>\n",
              "      <td>2.9</td>\n",
              "      <td>309</td>\n",
              "      <td>6.1</td>\n",
              "      <td>349</td>\n",
              "      <td>850.69</td>\n",
              "      <td>0.0</td>\n",
              "      <td>0</td>\n",
              "    </tr>\n",
              "    <tr>\n",
              "      <th>4</th>\n",
              "      <td>3.7</td>\n",
              "      <td>76.9</td>\n",
              "      <td>-1.9</td>\n",
              "      <td>3.1</td>\n",
              "      <td>346</td>\n",
              "      <td>5.3</td>\n",
              "      <td>255</td>\n",
              "      <td>848.24</td>\n",
              "      <td>0.0</td>\n",
              "      <td>0</td>\n",
              "    </tr>\n",
              "    <tr>\n",
              "      <th>...</th>\n",
              "      <td>...</td>\n",
              "      <td>...</td>\n",
              "      <td>...</td>\n",
              "      <td>...</td>\n",
              "      <td>...</td>\n",
              "      <td>...</td>\n",
              "      <td>...</td>\n",
              "      <td>...</td>\n",
              "      <td>...</td>\n",
              "      <td>...</td>\n",
              "    </tr>\n",
              "    <tr>\n",
              "      <th>8779</th>\n",
              "      <td>22.3</td>\n",
              "      <td>74.3</td>\n",
              "      <td>15.4</td>\n",
              "      <td>0.9</td>\n",
              "      <td>221</td>\n",
              "      <td>3.3</td>\n",
              "      <td>202</td>\n",
              "      <td>833.32</td>\n",
              "      <td>0.0</td>\n",
              "      <td>0</td>\n",
              "    </tr>\n",
              "    <tr>\n",
              "      <th>8780</th>\n",
              "      <td>20.3</td>\n",
              "      <td>80.4</td>\n",
              "      <td>15.3</td>\n",
              "      <td>0.6</td>\n",
              "      <td>279</td>\n",
              "      <td>2.9</td>\n",
              "      <td>279</td>\n",
              "      <td>833.45</td>\n",
              "      <td>0.1</td>\n",
              "      <td>0</td>\n",
              "    </tr>\n",
              "    <tr>\n",
              "      <th>8781</th>\n",
              "      <td>19.9</td>\n",
              "      <td>81.1</td>\n",
              "      <td>15.1</td>\n",
              "      <td>0.5</td>\n",
              "      <td>197</td>\n",
              "      <td>2.5</td>\n",
              "      <td>279</td>\n",
              "      <td>833.01</td>\n",
              "      <td>0.1</td>\n",
              "      <td>0</td>\n",
              "    </tr>\n",
              "    <tr>\n",
              "      <th>8782</th>\n",
              "      <td>17.8</td>\n",
              "      <td>82.8</td>\n",
              "      <td>13.5</td>\n",
              "      <td>2.0</td>\n",
              "      <td>353</td>\n",
              "      <td>4.8</td>\n",
              "      <td>352</td>\n",
              "      <td>832.78</td>\n",
              "      <td>0.1</td>\n",
              "      <td>0</td>\n",
              "    </tr>\n",
              "    <tr>\n",
              "      <th>8783</th>\n",
              "      <td>16.3</td>\n",
              "      <td>84.1</td>\n",
              "      <td>12.4</td>\n",
              "      <td>1.0</td>\n",
              "      <td>191</td>\n",
              "      <td>4.9</td>\n",
              "      <td>353</td>\n",
              "      <td>832.62</td>\n",
              "      <td>0.0</td>\n",
              "      <td>0</td>\n",
              "    </tr>\n",
              "  </tbody>\n",
              "</table>\n",
              "<p>8784 rows × 10 columns</p>\n",
              "</div>\n",
              "      <button class=\"colab-df-convert\" onclick=\"convertToInteractive('df-bec7614b-1ebc-458c-944e-d23e30ea2a78')\"\n",
              "              title=\"Convert this dataframe to an interactive table.\"\n",
              "              style=\"display:none;\">\n",
              "        \n",
              "  <svg xmlns=\"http://www.w3.org/2000/svg\" height=\"24px\"viewBox=\"0 0 24 24\"\n",
              "       width=\"24px\">\n",
              "    <path d=\"M0 0h24v24H0V0z\" fill=\"none\"/>\n",
              "    <path d=\"M18.56 5.44l.94 2.06.94-2.06 2.06-.94-2.06-.94-.94-2.06-.94 2.06-2.06.94zm-11 1L8.5 8.5l.94-2.06 2.06-.94-2.06-.94L8.5 2.5l-.94 2.06-2.06.94zm10 10l.94 2.06.94-2.06 2.06-.94-2.06-.94-.94-2.06-.94 2.06-2.06.94z\"/><path d=\"M17.41 7.96l-1.37-1.37c-.4-.4-.92-.59-1.43-.59-.52 0-1.04.2-1.43.59L10.3 9.45l-7.72 7.72c-.78.78-.78 2.05 0 2.83L4 21.41c.39.39.9.59 1.41.59.51 0 1.02-.2 1.41-.59l7.78-7.78 2.81-2.81c.8-.78.8-2.07 0-2.86zM5.41 20L4 18.59l7.72-7.72 1.47 1.35L5.41 20z\"/>\n",
              "  </svg>\n",
              "      </button>\n",
              "      \n",
              "  <style>\n",
              "    .colab-df-container {\n",
              "      display:flex;\n",
              "      flex-wrap:wrap;\n",
              "      gap: 12px;\n",
              "    }\n",
              "\n",
              "    .colab-df-convert {\n",
              "      background-color: #E8F0FE;\n",
              "      border: none;\n",
              "      border-radius: 50%;\n",
              "      cursor: pointer;\n",
              "      display: none;\n",
              "      fill: #1967D2;\n",
              "      height: 32px;\n",
              "      padding: 0 0 0 0;\n",
              "      width: 32px;\n",
              "    }\n",
              "\n",
              "    .colab-df-convert:hover {\n",
              "      background-color: #E2EBFA;\n",
              "      box-shadow: 0px 1px 2px rgba(60, 64, 67, 0.3), 0px 1px 3px 1px rgba(60, 64, 67, 0.15);\n",
              "      fill: #174EA6;\n",
              "    }\n",
              "\n",
              "    [theme=dark] .colab-df-convert {\n",
              "      background-color: #3B4455;\n",
              "      fill: #D2E3FC;\n",
              "    }\n",
              "\n",
              "    [theme=dark] .colab-df-convert:hover {\n",
              "      background-color: #434B5C;\n",
              "      box-shadow: 0px 1px 3px 1px rgba(0, 0, 0, 0.15);\n",
              "      filter: drop-shadow(0px 1px 2px rgba(0, 0, 0, 0.3));\n",
              "      fill: #FFFFFF;\n",
              "    }\n",
              "  </style>\n",
              "\n",
              "      <script>\n",
              "        const buttonEl =\n",
              "          document.querySelector('#df-bec7614b-1ebc-458c-944e-d23e30ea2a78 button.colab-df-convert');\n",
              "        buttonEl.style.display =\n",
              "          google.colab.kernel.accessAllowed ? 'block' : 'none';\n",
              "\n",
              "        async function convertToInteractive(key) {\n",
              "          const element = document.querySelector('#df-bec7614b-1ebc-458c-944e-d23e30ea2a78');\n",
              "          const dataTable =\n",
              "            await google.colab.kernel.invokeFunction('convertToInteractive',\n",
              "                                                     [key], {});\n",
              "          if (!dataTable) return;\n",
              "\n",
              "          const docLinkHtml = 'Like what you see? Visit the ' +\n",
              "            '<a target=\"_blank\" href=https://colab.research.google.com/notebooks/data_table.ipynb>data table notebook</a>'\n",
              "            + ' to learn more about interactive tables.';\n",
              "          element.innerHTML = '';\n",
              "          dataTable['output_type'] = 'display_data';\n",
              "          await google.colab.output.renderOutput(dataTable, element);\n",
              "          const docLink = document.createElement('div');\n",
              "          docLink.innerHTML = docLinkHtml;\n",
              "          element.appendChild(docLink);\n",
              "        }\n",
              "      </script>\n",
              "    </div>\n",
              "  </div>\n",
              "  "
            ]
          },
          "metadata": {},
          "execution_count": 15
        }
      ],
      "source": [
        "#Next, select the data that will be predictors.\n",
        "predictors = df.copy(deep=True)  # here, we use \"deep = True\" so that changes to predictors won't be made to the df.\n",
        "\n",
        "#Next, we drop some variables that shouldn't be used to predict whether or not there is rain.\n",
        "predictors = df.drop(['day','hour','Prec_inches'],axis=1) \n",
        "predictors"
      ],
      "id": "aZ0dOh18W1gC"
    },
    {
      "cell_type": "code",
      "execution_count": 16,
      "metadata": {
        "id": "4PmTuhboW1gD"
      },
      "outputs": [],
      "source": [
        "## Great, that worked. Now I will assign everything but \"prec\" to be the predictor array \"x\", \n",
        "## and prec will be the predictand vector \"y\".\n",
        "\n",
        "x = predictors.drop('prec_occur',axis=1)\n",
        "y = predictors.prec_occur"
      ],
      "id": "4PmTuhboW1gD"
    },
    {
      "cell_type": "markdown",
      "metadata": {
        "id": "UM1Es52TW1gE"
      },
      "source": [
        "**Q2 & Q3 do not need to be addressed in our dataset.**"
      ],
      "id": "UM1Es52TW1gE"
    },
    {
      "cell_type": "markdown",
      "metadata": {
        "id": "asT59BMrW1gE"
      },
      "source": [
        "**Q4. How will you validate your model?**\n",
        "\n",
        "We will perform a test-train split to validate our trained model. This step must be performed before each time the model is trained to ensure we are not baking in any bias among the models we train. That also means the following two steps must also be performed prior to training each model as well. For this reason, we write functions to call \n",
        "easily before each model training."
      ],
      "id": "asT59BMrW1gE"
    },
    {
      "cell_type": "code",
      "execution_count": 17,
      "metadata": {
        "id": "K9TB-OvYW1gG"
      },
      "outputs": [],
      "source": [
        "from sklearn.model_selection import train_test_split\n",
        "from random import randint"
      ],
      "id": "K9TB-OvYW1gG"
    },
    {
      "cell_type": "code",
      "execution_count": 18,
      "metadata": {
        "id": "7vJtBAbaW1gH"
      },
      "outputs": [],
      "source": [
        "def define_holdout_data(x, y, verbose):\n",
        "    \"\"\"Perform a 80/20 test-train split (80% of data is training, 20% is testing). Split is randomized with each call.\"\"\"\n",
        "    random_state = randint(0,1000)\n",
        "    x_train, x_test, y_train, y_test = train_test_split(x, y, test_size=0.20, random_state=random_state)\n",
        "    if verbose==True:\n",
        "        print(\"Prior to scaling and rebalacing...\")\n",
        "        print(\"Shape of training predictors: \"+str(np.shape(x_train)))\n",
        "        print(\"Shape of testing predictors: \"+str(np.shape(x_test)))\n",
        "        print(\"Shape of training predictands: \"+str(np.shape(y_train)))\n",
        "        print(\"Shape of testing predictands: \"+str(np.shape(y_test)))\n",
        "        print(\" \")\n",
        "    return x_train, x_test, y_train, y_test"
      ],
      "id": "7vJtBAbaW1gH"
    },
    {
      "cell_type": "markdown",
      "metadata": {
        "id": "TTyJzLalW1gI"
      },
      "source": [
        "**Q5. Do your features have the same variance?**\n",
        "\n",
        "We must normalize the features. In machine learning this is called Feature Scaling\". We do this so that the features with the largest variance are note weighted more heavily than those with less variance. Note: If our predictand wasn't binary, then we would normalize it as well.\n",
        "\n",
        "We'll keep the data as a pandas dataframe rather than converting it to a numpy array beforehand. The \"fit_transform\" function outputs a numpy array, but we will convert back to a dataframe so that re-balancing the dataset is easier."
      ],
      "id": "TTyJzLalW1gI"
    },
    {
      "cell_type": "code",
      "execution_count": 19,
      "metadata": {
        "id": "kXH1Zq7aW1gK"
      },
      "outputs": [],
      "source": [
        "from sklearn import preprocessing"
      ],
      "id": "kXH1Zq7aW1gK"
    },
    {
      "cell_type": "code",
      "execution_count": 20,
      "metadata": {
        "id": "4Y6R216ZW1gM"
      },
      "outputs": [],
      "source": [
        "def scale_data(x_train, x_test):\n",
        "    \"\"\"\n",
        "    Scale training data so that model reaches optimized weights much faster. \n",
        "    \n",
        "    *All data that enters the model should use the same scaling used to scale the training data.*\n",
        "    Thus, we also perform scaling on testing data for validation later. \n",
        "    Additionally, we return the scaler used to scale any other future input data.\n",
        "    \"\"\"\n",
        "    \n",
        "    scaler = preprocessing.MinMaxScaler() # normalize \n",
        "    x_train_scaled = pd.DataFrame(data=scaler.fit_transform(x_train),index=x_train.index,columns=x_train.columns) \n",
        "    x_test_scaled = pd.DataFrame(data=scaler.transform(x_test),index=x_test.index,columns=x_test.columns)\n",
        "    \n",
        "    return scaler, x_train_scaled, x_test_scaled"
      ],
      "id": "4Y6R216ZW1gM"
    },
    {
      "cell_type": "markdown",
      "metadata": {
        "id": "GDIoV09rW1gM"
      },
      "source": [
        "**Q6. Are there the same number of observations for each outcome or class?**\n",
        "Luckily, we have the same number of observations for each feature (8784). But do we have the same number of outcomes for our predictand?"
      ],
      "id": "GDIoV09rW1gM"
    },
    {
      "cell_type": "code",
      "execution_count": 21,
      "metadata": {
        "colab": {
          "base_uri": "https://localhost:8080/"
        },
        "id": "i_aAOkYoW1gO",
        "outputId": "6f7275b5-6282-4f09-f495-acd761273c01"
      },
      "outputs": [
        {
          "output_type": "execute_result",
          "data": {
            "text/plain": [
              "0    8501\n",
              "1     283\n",
              "Name: prec_occur, dtype: int64"
            ]
          },
          "metadata": {},
          "execution_count": 21
        }
      ],
      "source": [
        "df['prec_occur'].value_counts()"
      ],
      "id": "i_aAOkYoW1gO"
    },
    {
      "cell_type": "markdown",
      "metadata": {
        "id": "dNEfRovHW1gO"
      },
      "source": [
        "**Answer:** Definitely not. The outcomes we are trying to predict are extremely unbalanced. Non-precip hours occur 30x more than precip hours. This class imbalance may bias the model because precip hours are underrepresented, which means the model won't have as many instances of precip hours to learn to distinguish precip hours from non-precip hours.\n",
        "\n",
        "There are a number of out-of-the-box functions that resample data very precisely. The one I use below simply randomly oversamples the existing precipitating observation data to balance the dataset.\n",
        "\n",
        "Note: This function should be called on both training and testing data separately."
      ],
      "id": "dNEfRovHW1gO"
    },
    {
      "cell_type": "code",
      "execution_count": 22,
      "metadata": {
        "id": "6fbf9-fiW1gQ"
      },
      "outputs": [],
      "source": [
        "from sklearn.utils import resample"
      ],
      "id": "6fbf9-fiW1gQ"
    },
    {
      "cell_type": "code",
      "execution_count": 23,
      "metadata": {
        "id": "65Fk8o01W1gR"
      },
      "outputs": [],
      "source": [
        "def balance_data(x,y,verbose):\n",
        "    \"\"\"Resample data ensure model is not biased towards a particular outcome of precip or no precip.\"\"\"\n",
        "    # Combine again to one dataframe to ensure both the predictor and predictand are resampled from the same \n",
        "    # observations based on predictand outcomes. \n",
        "    dataset = pd.concat([x, y],axis=1)\n",
        "\n",
        "    # Separating classes\n",
        "    raining = dataset[dataset['prec_occur'] == 1]\n",
        "    not_raining = dataset[dataset['prec_occur'] == 0]\n",
        "\n",
        "    random_state = randint(0,1000)\n",
        "    oversample = resample(raining, \n",
        "                           replace=True, \n",
        "                           n_samples=len(not_raining), #set the number of samples to equal the number of the majority class\n",
        "                           random_state=random_state)\n",
        "\n",
        "    # Returning to new training set\n",
        "    oversample_dataset = pd.concat([not_raining, oversample])\n",
        "\n",
        "    # reseparate oversampled data into X and y sets\n",
        "    x_bal = oversample_dataset.drop(['prec_occur'], axis=1)\n",
        "    y_bal = oversample_dataset['prec_occur']\n",
        "\n",
        "    if verbose==True:\n",
        "        print(\"After scaling and rebalacing...\")\n",
        "        print(\"Shape of predictors: \"+str(np.shape(x_bal)))\n",
        "        print(\"Shape of predictands: \"+str(np.shape(y_bal)))\n",
        "        print(\" \")\n",
        "    \n",
        "    return x_bal, y_bal"
      ],
      "id": "65Fk8o01W1gR"
    },
    {
      "cell_type": "markdown",
      "metadata": {
        "id": "MJV6l9iXW1gR"
      },
      "source": [
        "**For ease, let's put the data prep code from questions 1-6 into a pipeline.  In other words we will write a single function to accomplish everything we have done so far in this notebook.**\n"
      ],
      "id": "MJV6l9iXW1gR"
    },
    {
      "cell_type": "code",
      "execution_count": 24,
      "metadata": {
        "id": "VKcNxF2VW1gS"
      },
      "outputs": [],
      "source": [
        "def dataprep_pipeline(x, y, verbose):\n",
        "    \"\"\" Combines all the functions defined above so that the user only has to \n",
        "    call one function to do all data pre-processing. \"\"\"\n",
        "    # verbose=True prints the shapes of input & output data\n",
        "\n",
        "    # split into training & testing data\n",
        "    x_train, x_test, y_train, y_test = define_holdout_data(x, y, verbose) \n",
        "\n",
        "    # perform feature scaling\n",
        "    scaler, x_train_scaled, x_test_scaled = scale_data(x_train, x_test)\n",
        "\n",
        "    # rebalance according to outcomes (i.e., the number of precipitating \n",
        "    # observations & non-precipitating outcomes should be equal)\n",
        "    if verbose==True:\n",
        "        print(\"for training data... \")\n",
        "    x_train_bal, y_train_bal = balance_data(x_train_scaled, y_train, verbose)\n",
        "    if verbose==True:\n",
        "        print(\"for testing data... \")\n",
        "    x_test_bal, y_test_bal = balance_data(x_test_scaled, y_test, verbose)\n",
        "    \n",
        "    return x_train_bal, y_train_bal, x_test_bal, y_test_bal"
      ],
      "id": "VKcNxF2VW1gS"
    },
    {
      "cell_type": "markdown",
      "metadata": {
        "id": "CjgEM_VRW1gT"
      },
      "source": [
        "**Q7. What are the appropriate metrics for assessing your model?**\n",
        "These metrics will be used to evaluate each model after training."
      ],
      "id": "CjgEM_VRW1gT"
    },
    {
      "cell_type": "markdown",
      "metadata": {
        "id": "3Fqvm9lfW1gT"
      },
      "source": [
        "Below are some commonly-used metrics for assessing the value of a given Machine Learning model.\n",
        "\n",
        "\"**True Positive (TP)**\" Is the number of times the model predicts a positive when the observation is actually positive. In our case, the model predicts that its raining when it is actually raining.<br>\n",
        "\"**False Positive (FP)**\" The number of times the model guesses that it's raining when it's not actually raining.<br>\n",
        "The same applies to **True Negatives (TN)** (correctly predicting that it's not raining) and **False Negatives (FN)** (predicting no rain when it's actually raining).\n",
        "\n",
        "\n",
        " - **Precision = TP/(TP + FP)**: The proportion of predicted precipitating events that are actually precipitating.\n",
        " - **Accuracy = (TP + TN)/(total)**: The proportion of precipitating hours or non-precipitating hours that are correctly predicted by the model.\n",
        " - **Recall = TP/(TP + FN)**: The proportion of precipitating hours that are correctly predicted by the model.<br>\n",
        "<br>\n",
        "Other important metrics that we aren't going to look at today:\n",
        " - **F1**: a way to capture how well the model predicts the hours that it's actually precipitating.\n",
        " - **ROC/AUC**: how well the model separates precipitating hours from non-precipitating hours."
      ],
      "id": "3Fqvm9lfW1gT"
    },
    {
      "cell_type": "code",
      "execution_count": 25,
      "metadata": {
        "id": "gs1KyHaCW1gU"
      },
      "outputs": [],
      "source": [
        "from sklearn import metrics\n",
        "from sklearn.metrics import accuracy_score, f1_score, precision_score, recall_score, roc_auc_score, confusion_matrix\n",
        "import matplotlib.pyplot as plt\n",
        "import seaborn as sns"
      ],
      "id": "gs1KyHaCW1gU"
    },
    {
      "cell_type": "code",
      "execution_count": 26,
      "metadata": {
        "id": "RkTPoPEZW1gU"
      },
      "outputs": [],
      "source": [
        "# Print rounded metrics for each model.\n",
        "def bin_metrics(x, y):\n",
        "    \"\"\"Prints accuracy and recall metrics for evaluating \n",
        "    classification predictions.\"\"\"\n",
        "    \n",
        "    accuracy = metrics.accuracy_score(x, y)\n",
        "    recall = metrics.recall_score(x, y)\n",
        "\n",
        "    print('Accuracy:', round(accuracy, 4))\n",
        "    print('Recall:', round(recall, 4))\n",
        "    \n",
        "    return accuracy, recall\n",
        "\n",
        "\n",
        "# Plot confusion matrix\n",
        "def plot_cm(x, y):\n",
        "    \"\"\"Plots the confusion matrix to visualize true \n",
        "    & false positives & negatives\"\"\"\n",
        "    cm = confusion_matrix(x, y)\n",
        "    df_cm = pd.DataFrame(cm, columns=np.unique(x), index = np.unique(x))\n",
        "    df_cm.index.name = 'Actual'\n",
        "    df_cm.columns.name = 'Predicted'\n",
        "    sns.heatmap(df_cm, cmap=\"Blues\", annot=True,annot_kws={\"size\": 25}, fmt='g')# font size\n",
        "    plt.ylim([0, 2])\n",
        "    plt.xticks([0.5, 1.5], ['Negatives','Positives'])\n",
        "    plt.yticks([0.5, 1.5], ['Negatives','Positives'])"
      ],
      "id": "RkTPoPEZW1gU"
    },
    {
      "cell_type": "markdown",
      "metadata": {
        "id": "xtXYsvx-W1gV"
      },
      "source": [
        "Another way we can evaluate the models is to compare precipitation likelihood given the same set of atmospheric conditions.  First, let's choose some observation in the pre-scaled dataset shows that it's raining, and then find the corresponding scaled observation:"
      ],
      "id": "xtXYsvx-W1gV"
    },
    {
      "cell_type": "code",
      "execution_count": 27,
      "metadata": {
        "id": "ZCuR_QyTW1gV"
      },
      "outputs": [],
      "source": [
        "def rand_atmos_conditions_precip(index='rand'):\n",
        "    \"\"\"\n",
        "    Function returns atmospheric conditions in a dataframe as well as the scaled\n",
        "    conditions in a numpy array so that they output a prediction in the model.\n",
        "    \n",
        "    If no input is passed, the function will randomly generate an in index to \n",
        "    choose from those observations in some training data with precipitation. \n",
        "    Otherwise, an integer index between 0 and 200 should be passed.\n",
        "    \"\"\"\n",
        "    # First, perform a test-train split\n",
        "    x_train, x_test, y_train, _ = define_holdout_data(x, y, verbose=False) \n",
        "\n",
        "    # perform feature scaling\n",
        "    _, x_train_scaled, _ = scale_data(x_train, x_test)\n",
        "\n",
        "    # this is what will go into the model to output a prediction\n",
        "    if index=='rand':\n",
        "        index = randint(0,len(y_train[y_train==1].index)) \n",
        "    precipindex = y_train[y_train==1].index.values[index]\n",
        "    testpredictor = x_train_scaled.loc[precipindex] \n",
        "    \n",
        "    return df.iloc[precipindex], testpredictor    "
      ],
      "id": "ZCuR_QyTW1gV"
    },
    {
      "cell_type": "markdown",
      "metadata": {
        "id": "-iyEgG0dW1gW"
      },
      "source": [
        "## STEP 3: Train & Compare Machine Learning Models\n",
        "Each section below goes through building and training a ML model. In each section, there are a few steps for each model \"pipeline\":\n",
        "1. __Randomly perform a test-train split, feature scaling, and resample data to ensure outcomes are balanced__. \n",
        "2. __Train your model__.\n",
        "3. __Assess model metrics with testing and training data__. We begin by first assessing each model's performance by calculating the metrics defined above on the *testing* or *holdout* data; the key here is that the model has never seen this data. <br>__If applicable, tune your model.__ This means choosing new *hyperparameters*, retraining the model, and then reassessing the same model metrics to see if the model yields better results.\n",
        "3. __Check for model overfitting__. We will also check to see if the model is overfitting by comparing metrics of the testing data to that of the training data. In short, the training data should not be outperforming the testing data.\n",
        "4. __Actually make a prediction with a single observation__. Predicted precipitation probability provides a sanity test for us to make sure the model isn't way off base. It allows us to see for ourselves: given X meteorological conditions and our own understanding of meteorology, would rain seem likely? Is the model actually doing something realistic?"
      ],
      "id": "-iyEgG0dW1gW"
    },
    {
      "cell_type": "markdown",
      "metadata": {
        "id": "H5ZnWlhNW1gW"
      },
      "source": [
        "## Model 1: Logistic Regression"
      ],
      "id": "H5ZnWlhNW1gW"
    },
    {
      "cell_type": "code",
      "execution_count": 28,
      "metadata": {
        "id": "zGaiHxVPW1gX"
      },
      "outputs": [],
      "source": [
        "from sklearn.linear_model import LogisticRegression"
      ],
      "id": "zGaiHxVPW1gX"
    },
    {
      "cell_type": "code",
      "execution_count": 29,
      "metadata": {
        "colab": {
          "base_uri": "https://localhost:8080/"
        },
        "id": "OGrb3b9-W1gX",
        "outputId": "c681be7b-0c31-4fd8-9995-e7fb422e4648"
      },
      "outputs": [
        {
          "output_type": "stream",
          "name": "stdout",
          "text": [
            "Prior to scaling and rebalacing...\n",
            "Shape of training predictors: (7027, 9)\n",
            "Shape of testing predictors: (1757, 9)\n",
            "Shape of training predictands: (7027,)\n",
            "Shape of testing predictands: (1757,)\n",
            " \n",
            "for training data... \n",
            "After scaling and rebalacing...\n",
            "Shape of predictors: (13580, 9)\n",
            "Shape of predictands: (13580,)\n",
            " \n",
            "for testing data... \n",
            "After scaling and rebalacing...\n",
            "Shape of predictors: (3422, 9)\n",
            "Shape of predictands: (3422,)\n",
            " \n"
          ]
        }
      ],
      "source": [
        "## 1. Perform a test-train split, perform feature scaling, and the rebalance our dataset.\n",
        "x_train_bal, y_train_bal, x_test_bal, y_test_bal = dataprep_pipeline(x, y, verbose=True)"
      ],
      "id": "OGrb3b9-W1gX"
    },
    {
      "cell_type": "code",
      "execution_count": 30,
      "metadata": {
        "id": "Enz8gDXGW1gY"
      },
      "outputs": [],
      "source": [
        "## 2. Train the Logistic Regression model\n",
        "\n",
        "# initialize the model\n",
        "lr = LogisticRegression(solver='lbfgs') \n",
        "# we choose this particular solver because we're not regularizing or penalizing certain features\n",
        "\n",
        "# fit the model to scaled & balanced training data. Side note: this is where *Gradient Descent* occurs.\n",
        "lr.fit(x_train_bal, y_train_bal);"
      ],
      "id": "Enz8gDXGW1gY"
    },
    {
      "cell_type": "code",
      "execution_count": 31,
      "metadata": {
        "colab": {
          "base_uri": "https://localhost:8080/"
        },
        "id": "7LAkapDyW1gZ",
        "outputId": "1d59d430-b29b-4524-a0f7-1fd3d88fd9a5"
      },
      "outputs": [
        {
          "output_type": "stream",
          "name": "stdout",
          "text": [
            "Accuracy: 0.8553\n",
            "Recall: 0.8814\n"
          ]
        }
      ],
      "source": [
        "## 3. Assess Logistic Regression's performance using testing data\n",
        "\n",
        "##Now that we've \"trained\" our model, we make predictions using data that the \n",
        "## model has never seen before (i.e., our holdout testing data) to see how it performs.\n",
        "\n",
        "y_pred = lr.predict(x_test_bal)\n",
        "\n",
        "# Call functions defined above to calculate metrics & plot a confusion matrix based on\n",
        "# how well model simulates testing data\n",
        "#plot_cm(y_test_bal, y_pred);\n",
        "lr_acc, lr_rec = bin_metrics(y_test_bal, y_pred)"
      ],
      "id": "7LAkapDyW1gZ"
    },
    {
      "cell_type": "markdown",
      "metadata": {
        "id": "DIVTMsgAW1gZ"
      },
      "source": [
        "Accuracy tells is the percent of correct predictions, whether precipitating or not. The Logistic Regression model, without any additional tuning, can correctly predict whether it's precipitating or not given a set of present atmospheric conditions around 84% of the time.\n",
        "\n",
        "False Positives are less harmful than False Negatives. Thus, along with accuracy, we should also try to maximize recall.\n",
        "\n",
        "A very important aspect of tuning machine learning model is to ensure the model isn't overfitting or underfitting:\n",
        "An overfit model means the model is fit very well to the training data, but fails to generalize predictions outside the training dataset. A symptom of overfitting is that the models' training accuracy is much better than the testing accuracy. Overfitting can happen more easily in more complex models, like neural networks. To alleviate overfitting, one needs to reduce variance, through feature regularization, lowering model complexity, or performing k-folds cross-validation.\n",
        "\n",
        "Before you dive too deeply into ML and in your own time, I suggest watching this (https://www.youtube.com/watch?v=EuBBz3bI-aA) 6-minute StatQuest YouTube video to develop more intuition for model error."
      ],
      "id": "DIVTMsgAW1gZ"
    },
    {
      "cell_type": "code",
      "execution_count": 32,
      "metadata": {
        "colab": {
          "base_uri": "https://localhost:8080/"
        },
        "id": "i718GvshW1ga",
        "outputId": "54fc6f07-72a5-4586-d1c6-a142f20f3f70"
      },
      "outputs": [
        {
          "output_type": "stream",
          "name": "stdout",
          "text": [
            "Training metrics:\n",
            "Accuracy: 0.8423\n",
            "Recall: 0.8692\n",
            " \n",
            "Testing metrics:\n",
            "Accuracy: 0.8553\n",
            "Recall: 0.8814\n"
          ]
        }
      ],
      "source": [
        "##4. Check to see if the Logistic Regression model is overfitting (or underfitting)\n",
        "#Remember:\n",
        "#testing metrics > training metrics = underfitting, model is too simple\n",
        "#testing metrics < training metrics = overfitting, model is too complex\n",
        "\n",
        "# Compare testing data metrics to data training metrics.\n",
        "print(\"Training metrics:\")\n",
        "pred_train= lr.predict(x_train_bal) \n",
        "bin_metrics(y_train_bal,pred_train);\n",
        "\n",
        "# As a reminder, display testing metrics:\n",
        "print(\" \")\n",
        "print(\"Testing metrics:\")\n",
        "bin_metrics(y_test_bal, y_pred);"
      ],
      "id": "i718GvshW1ga"
    },
    {
      "cell_type": "code",
      "execution_count": 33,
      "metadata": {
        "colab": {
          "base_uri": "https://localhost:8080/"
        },
        "id": "54dkPEN1W1gb",
        "outputId": "2f848db1-7749-4514-ef35-fbe1cdcb7163"
      },
      "outputs": [
        {
          "output_type": "stream",
          "name": "stdout",
          "text": [
            "temp_F          0.785400\n",
            "RH              0.498826\n",
            "dewtemp_F       0.827887\n",
            "wind_mph        0.188841\n",
            "wind_dir        0.557103\n",
            "windgust        0.326220\n",
            "windgust_dir    0.713092\n",
            "pres_Hg         0.603588\n",
            "SOLIN_Wm2       0.231940\n",
            "Name: 3830, dtype: float64\n"
          ]
        }
      ],
      "source": [
        "## 5. Make a prediction with the Logistic Regression model\n",
        "#First, we randomly choose some atmospheric conditions using the function defined above. This will be the atmospheric conditions we use for all models we build.\n",
        "\n",
        "origvals, testpredictor = rand_atmos_conditions_precip()\n",
        "#print(origvals) # observation from original dataframe\n",
        "print(testpredictor) # scaled observation"
      ],
      "id": "54dkPEN1W1gb"
    },
    {
      "cell_type": "code",
      "execution_count": 34,
      "metadata": {
        "scrolled": true,
        "colab": {
          "base_uri": "https://localhost:8080/"
        },
        "id": "2r_D6jSbW1gb",
        "outputId": "dcb323d4-4604-4ef4-b038-98df2d9a4ee5"
      },
      "outputs": [
        {
          "output_type": "stream",
          "name": "stdout",
          "text": [
            "The meteorological conditions are: \n",
            "day             2016-06-08\n",
            "hour              0.583333\n",
            "temp_F                75.0\n",
            "RH                    50.0\n",
            "dewtemp_F             55.2\n",
            "wind_mph               8.8\n",
            "wind_dir               200\n",
            "windgust              21.4\n",
            "windgust_dir           256\n",
            "pres_Hg              839.8\n",
            "SOLIN_Wm2            233.1\n",
            "Prec_inches           0.04\n",
            "prec_occur               1\n",
            "Name: 3830, dtype: object\n",
            " \n",
            "There is a 64.95% chance of precipitation given those meteorological conditions.\n"
          ]
        },
        {
          "output_type": "stream",
          "name": "stderr",
          "text": [
            "/usr/local/lib/python3.10/dist-packages/sklearn/base.py:439: UserWarning: X does not have valid feature names, but LogisticRegression was fitted with feature names\n",
            "  warnings.warn(\n"
          ]
        }
      ],
      "source": [
        "# prediction output is in the format [probability no rain, probability rain]\n",
        "lr_prediction = lr.predict_proba(np.array(testpredictor).reshape(1, -1))[0][1]*100 \n",
        "print(\"The meteorological conditions are: \")\n",
        "print(origvals)\n",
        "print(\" \")\n",
        "print(\"There is a {0:.{digits}f}% chance of precipitation given those meteorological conditions.\".format(lr_prediction, digits=2))"
      ],
      "id": "2r_D6jSbW1gb"
    },
    {
      "cell_type": "markdown",
      "metadata": {
        "id": "mMOOtHpcW1gc"
      },
      "source": [
        "## Model 2: Random Forest\n",
        "\n",
        "To understand random forests, one must first understand a [decision tree](https://scikit-learn.org/stable/modules/tree.html#tree). A decision tree is intuitive: it is essentially a flowchart to point to an outcome based on \"decisions\" for each feature. A Random Forest is an ensemble of decision trees that are randomly constructed based on the features of the dataset and number of decisions. Trees are constructed by randomly choosing a feature to \"seed\" each tree, and then making rules or associations with other features to lead to the specified outcome."
      ],
      "id": "mMOOtHpcW1gc"
    },
    {
      "cell_type": "code",
      "execution_count": 35,
      "metadata": {
        "id": "-rRvhqdUW1gc"
      },
      "outputs": [],
      "source": [
        "from sklearn.ensemble import RandomForestClassifier"
      ],
      "id": "-rRvhqdUW1gc"
    },
    {
      "cell_type": "code",
      "execution_count": 36,
      "metadata": {
        "id": "TVNV9IVdW1gd"
      },
      "outputs": [],
      "source": [
        "##1. Perform a test-train split, perform feature scaling, and the rebalance our dataset.\n",
        "## Perform a train-test split for cross-validation, perform feature scaling, and \n",
        "## rebalance each testing & training dataset.\n",
        "\n",
        "x_train_bal, y_train_bal, x_test_bal, y_test_bal = dataprep_pipeline(x, y, verbose=False)"
      ],
      "id": "TVNV9IVdW1gd"
    },
    {
      "cell_type": "code",
      "execution_count": 37,
      "metadata": {
        "colab": {
          "base_uri": "https://localhost:8080/"
        },
        "id": "MJR-rXw-W1ge",
        "outputId": "51e10f65-f706-44c1-8e4b-5dde80fb2590"
      },
      "outputs": [
        {
          "output_type": "stream",
          "name": "stdout",
          "text": [
            "Number of estimators is 10\n",
            "depth is 2\n",
            "depth is 10\n",
            "depth is 100\n",
            "Random Forest took 0.4612307548522949 seconds.\n",
            "Number of estimators is 50\n",
            "depth is 2\n",
            "depth is 10\n",
            "depth is 100\n",
            "Random Forest took 3.191091299057007 seconds.\n",
            "Number of estimators is 500\n",
            "depth is 2\n",
            "depth is 10\n",
            "depth is 100\n",
            "Random Forest took 22.007195711135864 seconds.\n"
          ]
        }
      ],
      "source": [
        "##2. Train (and tuning) the Random Forest model\n",
        "\n",
        "##Choosing hyperparameters: There are many hyperparameters one can decide upon when tuning the \n",
        "## Random Forest classifier. The two we will adjust are: 1) The number of estimators or \"trees\" in the forest\n",
        "## 2) The depth of the tree, or how many \"decisions\" are made until convergence is reached.\n",
        "\n",
        "acc_scores = []\n",
        "rec_scores = []\n",
        "\n",
        "num_est = [10, 50, 500] # number of trees\n",
        "depth = [2, 10, 100] # number of decisions\n",
        "for i in num_est:\n",
        "    start = time.time()\n",
        "    print(\"Number of estimators is \"+str(i))\n",
        "\n",
        "    for k in depth:\n",
        "        print(\"depth is \"+str(k))\n",
        "        forest = RandomForestClassifier(n_estimators=i, max_depth=k)\n",
        "        forest.fit(x_train_bal, y_train_bal)\n",
        "        \n",
        "        # cross validate & evaluate metrics based on testing data\n",
        "        pred_test= forest.predict(x_test_bal)\n",
        "        acc_val = metrics.accuracy_score(y_test_bal, pred_test)\n",
        "        acc_scores.append(acc_val)\n",
        "        rec_val = metrics.recall_score(y_test_bal, pred_test)\n",
        "        rec_scores.append(rec_val)\n",
        "\n",
        "    end = time.time()\n",
        "    print(\"Random Forest took \"+str(end-start)+\" seconds.\")"
      ],
      "id": "MJR-rXw-W1ge"
    },
    {
      "cell_type": "code",
      "execution_count": 38,
      "metadata": {
        "colab": {
          "base_uri": "https://localhost:8080/",
          "height": 485
        },
        "id": "TOsX6rhtW1gf",
        "outputId": "cfe19da8-ab30-4f1e-f68e-1433a210b45b"
      },
      "outputs": [
        {
          "output_type": "stream",
          "name": "stdout",
          "text": [
            "Max Accuracy (black): 0.7973\n",
            "Max Recall (blue): 0.6883\n"
          ]
        },
        {
          "output_type": "display_data",
          "data": {
            "text/plain": [
              "<Figure size 640x480 with 1 Axes>"
            ],
            "image/png": "[encoded data removed]"
          },
          "metadata": {}
        }
      ],
      "source": [
        "### visualize the recall and accuracy scores for the different hyperparameter choices\n",
        "plt.plot(acc_scores, marker='o', color='black',label='accuracy')\n",
        "plt.plot(rec_scores, marker='o', color='blue',label='recall')\n",
        "plt.xlabel('Hyperparameter Choice')\n",
        "plt.ylabel('Score')\n",
        "plt.legend()\n",
        "print(\"Max Accuracy (black):\", round(max(acc_scores), 4))\n",
        "print(\"Max Recall (blue):\", round(max(rec_scores), 4))"
      ],
      "id": "TOsX6rhtW1gf"
    },
    {
      "cell_type": "markdown",
      "metadata": {
        "id": "EEValQAiW1gf"
      },
      "source": [
        "Which choice of hyperparameters should we pick? Choosing the right hyperparameters for this model requires revisiting which metrics are most important to our question. For this problem, we want to maximize both recall and accuracy.\n",
        "\n",
        "Let's go with the parameters corresponding to x=0 (Looks good for both accuracy and recall!) but try other hyperparameters too (if you have time)"
      ],
      "id": "EEValQAiW1gf"
    },
    {
      "cell_type": "code",
      "execution_count": 39,
      "metadata": {
        "id": "Xhoe7ZuMW1gg"
      },
      "outputs": [],
      "source": [
        "forest = RandomForestClassifier(n_estimators=10, max_depth=2);\n",
        "forest.fit(x_train_bal, y_train_bal);"
      ],
      "id": "Xhoe7ZuMW1gg"
    },
    {
      "cell_type": "code",
      "execution_count": 40,
      "metadata": {
        "colab": {
          "base_uri": "https://localhost:8080/",
          "height": 485
        },
        "id": "tmxNoOxPW1gh",
        "outputId": "7449c473-4fc5-4089-ed29-e83676ef342d"
      },
      "outputs": [
        {
          "output_type": "stream",
          "name": "stdout",
          "text": [
            "Accuracy: 0.7598\n",
            "Recall: 0.6456\n"
          ]
        },
        {
          "output_type": "display_data",
          "data": {
            "text/plain": [
              "<Figure size 640x480 with 2 Axes>"
            ],
            "image/png": "[encoded data removed]"
          },
          "metadata": {}
        }
      ],
      "source": [
        "## 3. Assess the Random Forest's performance using testing data\n",
        "##Once again, we will use our testing data to make an initial evaluation of how the model is doing.\n",
        "\n",
        "pred_test= forest.predict(x_test_bal)\n",
        "\n",
        "# Call functions defined above to calculate metrics & plot a confusion matrix based on\n",
        "# how well model simulates testing data\n",
        "forest_acc, forest_rec = bin_metrics(y_test_bal, pred_test)\n",
        "plot_cm(y_test_bal, pred_test)\n"
      ],
      "id": "tmxNoOxPW1gh"
    },
    {
      "cell_type": "code",
      "execution_count": 41,
      "metadata": {
        "colab": {
          "base_uri": "https://localhost:8080/"
        },
        "id": "OEteJPV5W1gh",
        "outputId": "c79d87df-cfab-42d3-92f6-ed084c829912"
      },
      "outputs": [
        {
          "output_type": "stream",
          "name": "stdout",
          "text": [
            "Training metrics:\n",
            "Accuracy: 0.8145\n",
            "Recall: 0.7565\n",
            " \n",
            "Testing metrics:\n",
            "Accuracy: 0.7598\n",
            "Recall: 0.6456\n"
          ]
        }
      ],
      "source": [
        "## 4. Check to see if the Random Forest is overfitting (or underfitting)\n",
        "#Remember:\n",
        "#testing metrics > training metrics = underfitting, model is too simple\n",
        "#testing metrics < training metrics = overfitting, model is too complex\n",
        "\n",
        "# Compare testing data metrics to data training metrics.\n",
        "print(\"Training metrics:\")\n",
        "rf_pred_train= forest.predict(x_train_bal) \n",
        "bin_metrics(y_train_bal,rf_pred_train);\n",
        "\n",
        "# As a reminder, display testing metrics:\n",
        "print(\" \")\n",
        "print(\"Testing metrics:\")\n",
        "bin_metrics(y_test_bal, pred_test);"
      ],
      "id": "OEteJPV5W1gh"
    },
    {
      "cell_type": "markdown",
      "metadata": {
        "id": "TupKK_KOW1gi"
      },
      "source": [
        "WOW - the random forest model was not an improvement over the logistical regression model.\n",
        "\n",
        "Random forests seldom overfit, but if they do, one should try increasing the number of trees, or decreasing the amount of data used to construct each tree. See scikit-learn's Random Forest Classifier webpage (https://scikit-learn.org/stable/modules/generated/sklearn.ensemble.RandomForestClassifier.html) for information on more hyperparameters one can tune to address overfitting."
      ],
      "id": "TupKK_KOW1gi"
    },
    {
      "cell_type": "code",
      "execution_count": 42,
      "metadata": {
        "colab": {
          "base_uri": "https://localhost:8080/"
        },
        "id": "0l-b2FqGW1gj",
        "outputId": "25abe033-77ee-4bc0-8d1c-4df7694ae489"
      },
      "outputs": [
        {
          "output_type": "stream",
          "name": "stdout",
          "text": [
            "The meteorological conditions are: \n",
            "day             2016-06-08\n",
            "hour              0.583333\n",
            "temp_F                75.0\n",
            "RH                    50.0\n",
            "dewtemp_F             55.2\n",
            "wind_mph               8.8\n",
            "wind_dir               200\n",
            "windgust              21.4\n",
            "windgust_dir           256\n",
            "pres_Hg              839.8\n",
            "SOLIN_Wm2            233.1\n",
            "Prec_inches           0.04\n",
            "prec_occur               1\n",
            "Name: 3830, dtype: object\n",
            " \n",
            "There is a 44.41% chance of precipitation given those meteorological conditions.\n"
          ]
        },
        {
          "output_type": "stream",
          "name": "stderr",
          "text": [
            "/usr/local/lib/python3.10/dist-packages/sklearn/base.py:439: UserWarning: X does not have valid feature names, but RandomForestClassifier was fitted with feature names\n",
            "  warnings.warn(\n"
          ]
        }
      ],
      "source": [
        "##5. Make a prediction with the Random Forest\n",
        "\n",
        "# prediction output is in the format [probability no rain, probability rain]\n",
        "forest_prediction = forest.predict_proba(np.array(testpredictor).reshape(1, -1))[0][1]*100 \n",
        "print(\"The meteorological conditions are: \")\n",
        "print(origvals)\n",
        "print(\" \")\n",
        "print(\"There is a {0:.{digits}f}% chance of precipitation given those meteorological conditions.\".format(forest_prediction, digits=2))"
      ],
      "id": "0l-b2FqGW1gj"
    },
    {
      "cell_type": "markdown",
      "metadata": {
        "id": "_JjqFyBzW1gk"
      },
      "source": [
        "## Model 3: Support Vector Machines (SVMs)"
      ],
      "id": "_JjqFyBzW1gk"
    },
    {
      "cell_type": "markdown",
      "metadata": {
        "id": "dKWW5dhKW1gk"
      },
      "source": [
        "SVMs divide observations into classes based on maximizing the distance between a \"kernel\" (basically a dividing function) and the elements of each feature/class/variable on a plane. Because the relationships between atmospheric variables and precipitation are inherently non-linear, we will choose a non-linear, \"RBF\" kernel."
      ],
      "id": "dKWW5dhKW1gk"
    },
    {
      "cell_type": "code",
      "execution_count": 43,
      "metadata": {
        "id": "EwV2_zuEW1gl"
      },
      "outputs": [],
      "source": [
        "from sklearn import svm"
      ],
      "id": "EwV2_zuEW1gl"
    },
    {
      "cell_type": "code",
      "execution_count": 44,
      "metadata": {
        "id": "vc0nrYtfW1gl"
      },
      "outputs": [],
      "source": [
        "## 1. Perform a test-train split, perform feature scaling, and the rebalance our dataset.\n",
        "x_train_bal, y_train_bal, x_test_bal, y_test_bal = dataprep_pipeline(x, y, verbose=False)"
      ],
      "id": "vc0nrYtfW1gl"
    },
    {
      "cell_type": "markdown",
      "metadata": {
        "id": "HVWjFJOkW1gm"
      },
      "source": [
        "Choosing hyperparameters\n",
        "In the case of SVMs, we can tune \"C\", the regularization parameter. Regularization) penalizes higher-order coefficients during training (i.e., Gradient Descent). Regularization is a way to reduce a model's complexity and address overfitting.\n",
        "\n",
        "In SVMs, the lower the regularization parameter C, the higher the penalty. We are unsure what the C value should be. Thus, we train the model three times, each with a different value of C to see what the best value should be. I highly suggest learning more on regularization if you choose to pursue ML methods on your own."
      ],
      "id": "HVWjFJOkW1gm"
    },
    {
      "cell_type": "code",
      "execution_count": 45,
      "metadata": {
        "colab": {
          "base_uri": "https://localhost:8080/"
        },
        "id": "WoM0rX5fW1gn",
        "outputId": "eedb5b4b-29b2-4f96-89b6-ceabf50a24c7"
      },
      "outputs": [
        {
          "output_type": "stream",
          "name": "stdout",
          "text": [
            "C is... 0.01\n",
            "Took 42.60667419433594 seconds to train.\n",
            "C is... 1\n",
            "Took 19.418001651763916 seconds to train.\n",
            "C is... 100\n"
          ]
        },
        {
          "output_type": "stream",
          "name": "stderr",
          "text": [
            "/usr/local/lib/python3.10/dist-packages/sklearn/svm/_base.py:299: ConvergenceWarning: Solver terminated early (max_iter=20000).  Consider pre-processing your data with StandardScaler or MinMaxScaler.\n",
            "  warnings.warn(\n"
          ]
        },
        {
          "output_type": "stream",
          "name": "stdout",
          "text": [
            "Took 19.040619134902954 seconds to train.\n"
          ]
        }
      ],
      "source": [
        "## 2. Train (and tune) the SVM (Note: this cell takes ~1 minute to run)\n",
        "\n",
        "acc_scores = []\n",
        "rec_scores = []\n",
        "\n",
        "C_range = [0.01, 1, 100]\n",
        "for i in C_range:\n",
        "    start = time.time()\n",
        "    print(\"C is... \"+str(i))\n",
        "    svmclassifier = svm.SVC(C=i, kernel='rbf', gamma='scale', max_iter=20000, probability=True)\n",
        "    svmclassifier.fit(x_train_bal, y_train_bal)\n",
        "    \n",
        "    # Save model metrics in order to choose best hyperparameter\n",
        "    pred_test= svmclassifier.predict(x_test_bal)\n",
        "    acc_val = metrics.accuracy_score(y_test_bal, pred_test)\n",
        "    acc_scores.append(acc_val)\n",
        "    rec_val = metrics.recall_score(y_test_bal, pred_test)\n",
        "    rec_scores.append(rec_val)\n",
        "\n",
        "    end = time.time()\n",
        "    print(\"Took \"+str(end-start)+\" seconds to train.\")"
      ],
      "id": "WoM0rX5fW1gn"
    },
    {
      "cell_type": "code",
      "execution_count": 46,
      "metadata": {
        "colab": {
          "base_uri": "https://localhost:8080/",
          "height": 490
        },
        "id": "5uUtFamuW1gn",
        "outputId": "758a3cc8-d756-4372-e731-34733129b3a6"
      },
      "outputs": [
        {
          "output_type": "stream",
          "name": "stdout",
          "text": [
            "Max Accuracy (black): 0.8571\n",
            "Max Recall (blue): 0.8286\n"
          ]
        },
        {
          "output_type": "display_data",
          "data": {
            "text/plain": [
              "<Figure size 640x480 with 1 Axes>"
            ],
            "image/png": "[encoded data removed]"
          },
          "metadata": {}
        }
      ],
      "source": [
        "plt.plot(C_range, acc_scores, marker='o', color='black',label='accuracy')\n",
        "plt.plot(C_range, rec_scores, marker='o', color='blue',label='recall')\n",
        "plt.xlabel('Hyperparameter Choice')\n",
        "plt.xscale('log')\n",
        "plt.ylabel('Score')\n",
        "plt.legend()\n",
        "\n",
        "print(\"Max Accuracy (black):\", round(max(acc_scores), 4))\n",
        "print(\"Max Recall (blue):\", round(max(rec_scores), 4))"
      ],
      "id": "5uUtFamuW1gn"
    },
    {
      "cell_type": "markdown",
      "metadata": {
        "id": "_psGI54iW1go"
      },
      "source": [
        "The SVM with C=1, i.e., a medium weight penalty, results in a balance among accuracy, precision, and recall.\n",
        "We will train our final model with this hyperparameter."
      ],
      "id": "_psGI54iW1go"
    },
    {
      "cell_type": "code",
      "execution_count": 47,
      "metadata": {
        "id": "EjhY0_i2W1go"
      },
      "outputs": [],
      "source": [
        "# Define SVM classifier & fit to training data\n",
        "svmclassifier = svm.SVC(C=1, kernel='rbf', gamma='scale', max_iter=20000, probability=True)\n",
        "svmclassifier.fit(x_train_bal, y_train_bal);"
      ],
      "id": "EjhY0_i2W1go"
    },
    {
      "cell_type": "code",
      "execution_count": 48,
      "metadata": {
        "colab": {
          "base_uri": "https://localhost:8080/",
          "height": 485
        },
        "id": "b_xwVz76W1gp",
        "outputId": "1267c855-4237-4626-b6b2-d7a9ad5e09c0"
      },
      "outputs": [
        {
          "output_type": "stream",
          "name": "stdout",
          "text": [
            "Accuracy: 0.8571\n",
            "Recall: 0.8239\n"
          ]
        },
        {
          "output_type": "display_data",
          "data": {
            "text/plain": [
              "<Figure size 640x480 with 2 Axes>"
            ],
            "image/png": "[encoded data removed]"
          },
          "metadata": {}
        }
      ],
      "source": [
        "## 3. Assess SVM performance using testing data\n",
        "\n",
        "pred_test= svmclassifier.predict(x_test_bal)\n",
        "\n",
        "# Call functions defined above to calculate metrics & plot a confusion matrix based on\n",
        "# how well model simulates testing data\n",
        "svm_acc, svm_rec = bin_metrics(y_test_bal, pred_test)\n",
        "plot_cm(y_test_bal, pred_test)"
      ],
      "id": "b_xwVz76W1gp"
    },
    {
      "cell_type": "markdown",
      "metadata": {
        "id": "0GDdYcI4W1gq"
      },
      "source": [
        "WOW: using a non-linear Singular Vector Machine instead of a Logistic Regressor increased the recall and accuracy. "
      ],
      "id": "0GDdYcI4W1gq"
    },
    {
      "cell_type": "code",
      "execution_count": 49,
      "metadata": {
        "colab": {
          "base_uri": "https://localhost:8080/"
        },
        "id": "EFLDizpfW1gq",
        "outputId": "ff5039a2-e955-4d23-969e-14e60e7dcf3e"
      },
      "outputs": [
        {
          "output_type": "stream",
          "name": "stdout",
          "text": [
            "Training metrics:\n",
            "Accuracy: 0.922\n",
            "Recall: 0.9512\n",
            " \n",
            "Testing metrics:\n",
            "Accuracy: 0.8571\n",
            "Recall: 0.8239\n"
          ]
        }
      ],
      "source": [
        "## 4. Check to see if the SVM is overfitting (or underfitting)\n",
        "#Remember:\n",
        "#testing metrics > training metrics = underfitting, model is too simple\n",
        "#testing metrics < training metrics = overfitting, model is too complex\n",
        "\n",
        "# Compare testing data metrics to data training metrics.\n",
        "print(\"Training metrics:\")\n",
        "svm_pred_train= svmclassifier.predict(x_train_bal) \n",
        "bin_metrics(y_train_bal,svm_pred_train);\n",
        "\n",
        "# As a reminder, display testing metrics:\n",
        "print(\" \")\n",
        "print(\"Testing metrics:\")\n",
        "bin_metrics(y_test_bal, pred_test);"
      ],
      "id": "EFLDizpfW1gq"
    },
    {
      "cell_type": "markdown",
      "metadata": {
        "id": "N9oG3x1LW1gq"
      },
      "source": [
        "One can address overfitting in an SVM by changing the kernel to a simpler kernel, or tuning the regularization parameter C."
      ],
      "id": "N9oG3x1LW1gq"
    },
    {
      "cell_type": "code",
      "execution_count": 50,
      "metadata": {
        "colab": {
          "base_uri": "https://localhost:8080/"
        },
        "id": "VfC8RuZ2W1gr",
        "outputId": "95d61e79-8457-4859-9604-9dd3bae4e808"
      },
      "outputs": [
        {
          "output_type": "stream",
          "name": "stdout",
          "text": [
            "The meteorological conditions are: \n",
            "day             2016-06-08\n",
            "hour              0.583333\n",
            "temp_F                75.0\n",
            "RH                    50.0\n",
            "dewtemp_F             55.2\n",
            "wind_mph               8.8\n",
            "wind_dir               200\n",
            "windgust              21.4\n",
            "windgust_dir           256\n",
            "pres_Hg              839.8\n",
            "SOLIN_Wm2            233.1\n",
            "Prec_inches           0.04\n",
            "prec_occur               1\n",
            "Name: 3830, dtype: object\n",
            " \n",
            "There is a 100.00% chance of precipitation given those meteorological conditions.\n"
          ]
        },
        {
          "output_type": "stream",
          "name": "stderr",
          "text": [
            "/usr/local/lib/python3.10/dist-packages/sklearn/base.py:439: UserWarning: X does not have valid feature names, but SVC was fitted with feature names\n",
            "  warnings.warn(\n"
          ]
        }
      ],
      "source": [
        "## 5. Make a prediction with the SVM\n",
        "\n",
        "# prediction output is in the format [probability no rain, probability rain]\n",
        "svm_prediction = svmclassifier.predict_proba(np.array(testpredictor).reshape(1, -1))[0][1]*100 \n",
        "print(\"The meteorological conditions are: \")\n",
        "print(origvals)\n",
        "print(\" \")\n",
        "print(\"There is a {0:.{digits}f}% chance of precipitation given those meteorological conditions.\".format(svm_prediction, digits=2))"
      ],
      "id": "VfC8RuZ2W1gr"
    },
    {
      "cell_type": "markdown",
      "metadata": {
        "id": "I-d69TURW1gr"
      },
      "source": [
        "## Model 4: Neural Network"
      ],
      "id": "I-d69TURW1gr"
    },
    {
      "cell_type": "markdown",
      "metadata": {
        "id": "K3dZvWhgW1gs"
      },
      "source": [
        "Note: there is a TON of information online about Neural Networks. Eleanor Recommends:\n",
        "1) This three-part series of youtube videos (totaling about an hour in length) https://www.youtube.com/watch?v=aircAruvnKk. \n",
        "\n",
        "2) machinelearningmastery.com In fact, the model below is based off of this blog post (https://machinelearningmastery.com/binary-classification-tutorial-with-the-keras-deep-learning-library/)"
      ],
      "id": "K3dZvWhgW1gs"
    },
    {
      "cell_type": "code",
      "execution_count": 51,
      "metadata": {
        "id": "Ct8FS_2mW1gs"
      },
      "outputs": [],
      "source": [
        "import tensorflow.keras as keras\n",
        "from tensorflow.keras.models import Sequential\n",
        "from tensorflow.keras.layers import Dense"
      ],
      "id": "Ct8FS_2mW1gs"
    },
    {
      "cell_type": "code",
      "execution_count": 52,
      "metadata": {
        "id": "ykW7TPFiW1gs"
      },
      "outputs": [],
      "source": [
        "## 1. Perform a test-train split, perform feature scaling, and the rebalance our dataset.\n",
        "x_train_bal, y_train_bal, x_test_bal, y_test_bal = dataprep_pipeline(x, y, verbose=False)\n"
      ],
      "id": "ykW7TPFiW1gs"
    },
    {
      "cell_type": "code",
      "execution_count": 53,
      "metadata": {
        "id": "SjLSlT_GW1gt"
      },
      "outputs": [],
      "source": [
        "## 2. Train (and build and compile) the Neural Network\n",
        "## There are lots of hyperparameters here. Please read the comments to guide you in playing with them later!"
      ],
      "id": "SjLSlT_GW1gt"
    },
    {
      "cell_type": "code",
      "execution_count": 54,
      "metadata": {
        "id": "VsTovUhTW1gu"
      },
      "outputs": [],
      "source": [
        "### Build a very simple Neural Network and Compile\n",
        "number_inputs = len(x_train_bal.columns)\n",
        "\n",
        "# create model\n",
        "nn = Sequential()\n",
        "nn.add(Dense(number_inputs, input_dim=number_inputs, activation='relu'))\n",
        "\n",
        "# Try uncommenting this to address overfitting\n",
        "# from keras.regularizers import l2\n",
        "# reg = l2(0.001)\n",
        "# nn.add(Dense(number_inputs, activation='relu',bias_regularizer=reg,activity_regularizer=reg))\n",
        "\n",
        "# try commenting out one and then the other\n",
        "nn.add(Dense(1, activation='sigmoid'))\n",
        "#nn.addDense(1, activation='softmax'))\n",
        "\n",
        "# Compile model \n",
        "# Also try changing the learning rate.\n",
        "learning_rate = 0.001 # only used in the SGD optimizer.\n",
        "\n",
        "# Also try commenting out one & then the other. \n",
        "nn.compile(loss='binary_crossentropy', optimizer='adam', metrics=['accuracy']) \n",
        "#nn.compile(loss='binary_crossentropy', optimizer=keras.optimizers.SGD(lr=learning_rate), metrics=['accuracy']) "
      ],
      "id": "VsTovUhTW1gu"
    },
    {
      "cell_type": "code",
      "execution_count": 55,
      "metadata": {
        "colab": {
          "base_uri": "https://localhost:8080/"
        },
        "id": "gU1rD-nKW1gu",
        "outputId": "979e1386-f953-4a74-abd7-3b6f80c7d9e4"
      },
      "outputs": [
        {
          "output_type": "stream",
          "name": "stdout",
          "text": [
            "Epoch 1/100\n",
            "568/568 - 3s - loss: 0.6088 - accuracy: 0.6901 - val_loss: 0.5301 - val_accuracy: 0.7762 - 3s/epoch - 5ms/step\n",
            "Epoch 2/100\n",
            "568/568 - 1s - loss: 0.5157 - accuracy: 0.7664 - val_loss: 0.4380 - val_accuracy: 0.8264 - 959ms/epoch - 2ms/step\n",
            "Epoch 3/100\n",
            "568/568 - 1s - loss: 0.4648 - accuracy: 0.7959 - val_loss: 0.3986 - val_accuracy: 0.8435 - 1s/epoch - 2ms/step\n",
            "Epoch 4/100\n",
            "568/568 - 1s - loss: 0.4410 - accuracy: 0.8043 - val_loss: 0.3741 - val_accuracy: 0.8538 - 1s/epoch - 2ms/step\n",
            "Epoch 5/100\n",
            "568/568 - 1s - loss: 0.4247 - accuracy: 0.8122 - val_loss: 0.3646 - val_accuracy: 0.8426 - 1s/epoch - 2ms/step\n",
            "Epoch 6/100\n",
            "568/568 - 1s - loss: 0.4123 - accuracy: 0.8193 - val_loss: 0.3453 - val_accuracy: 0.8588 - 969ms/epoch - 2ms/step\n",
            "Epoch 7/100\n",
            "568/568 - 1s - loss: 0.4019 - accuracy: 0.8231 - val_loss: 0.3291 - val_accuracy: 0.8762 - 1s/epoch - 2ms/step\n",
            "Epoch 8/100\n",
            "568/568 - 1s - loss: 0.3928 - accuracy: 0.8280 - val_loss: 0.3194 - val_accuracy: 0.8856 - 1s/epoch - 2ms/step\n",
            "Epoch 9/100\n",
            "568/568 - 1s - loss: 0.3851 - accuracy: 0.8325 - val_loss: 0.3168 - val_accuracy: 0.8691 - 1s/epoch - 2ms/step\n",
            "Epoch 10/100\n",
            "568/568 - 1s - loss: 0.3785 - accuracy: 0.8365 - val_loss: 0.3119 - val_accuracy: 0.8729 - 1s/epoch - 3ms/step\n",
            "Epoch 11/100\n",
            "568/568 - 1s - loss: 0.3721 - accuracy: 0.8408 - val_loss: 0.3025 - val_accuracy: 0.8862 - 1s/epoch - 3ms/step\n",
            "Epoch 12/100\n",
            "568/568 - 1s - loss: 0.3665 - accuracy: 0.8430 - val_loss: 0.2986 - val_accuracy: 0.8856 - 1s/epoch - 2ms/step\n",
            "Epoch 13/100\n",
            "568/568 - 1s - loss: 0.3615 - accuracy: 0.8470 - val_loss: 0.2998 - val_accuracy: 0.8744 - 1s/epoch - 2ms/step\n",
            "Epoch 14/100\n",
            "568/568 - 1s - loss: 0.3560 - accuracy: 0.8504 - val_loss: 0.2950 - val_accuracy: 0.8815 - 1s/epoch - 2ms/step\n",
            "Epoch 15/100\n",
            "568/568 - 1s - loss: 0.3518 - accuracy: 0.8547 - val_loss: 0.2955 - val_accuracy: 0.8750 - 1s/epoch - 2ms/step\n",
            "Epoch 16/100\n",
            "568/568 - 1s - loss: 0.3478 - accuracy: 0.8570 - val_loss: 0.2895 - val_accuracy: 0.8859 - 1s/epoch - 2ms/step\n",
            "Epoch 17/100\n",
            "568/568 - 1s - loss: 0.3437 - accuracy: 0.8589 - val_loss: 0.2910 - val_accuracy: 0.8803 - 1s/epoch - 2ms/step\n",
            "Epoch 18/100\n",
            "568/568 - 1s - loss: 0.3402 - accuracy: 0.8638 - val_loss: 0.2874 - val_accuracy: 0.8838 - 1s/epoch - 2ms/step\n",
            "Epoch 19/100\n",
            "568/568 - 1s - loss: 0.3368 - accuracy: 0.8651 - val_loss: 0.2828 - val_accuracy: 0.8915 - 1s/epoch - 2ms/step\n",
            "Epoch 20/100\n",
            "568/568 - 1s - loss: 0.3343 - accuracy: 0.8657 - val_loss: 0.2850 - val_accuracy: 0.8841 - 1s/epoch - 2ms/step\n",
            "Epoch 21/100\n",
            "568/568 - 1s - loss: 0.3314 - accuracy: 0.8683 - val_loss: 0.2799 - val_accuracy: 0.8965 - 1s/epoch - 2ms/step\n",
            "Epoch 22/100\n",
            "568/568 - 1s - loss: 0.3292 - accuracy: 0.8702 - val_loss: 0.2770 - val_accuracy: 0.8995 - 1s/epoch - 3ms/step\n",
            "Epoch 23/100\n",
            "568/568 - 1s - loss: 0.3273 - accuracy: 0.8714 - val_loss: 0.2802 - val_accuracy: 0.8906 - 1s/epoch - 3ms/step\n",
            "Epoch 24/100\n",
            "568/568 - 1s - loss: 0.3252 - accuracy: 0.8708 - val_loss: 0.2778 - val_accuracy: 0.8965 - 1s/epoch - 3ms/step\n",
            "Epoch 25/100\n",
            "568/568 - 1s - loss: 0.3234 - accuracy: 0.8712 - val_loss: 0.2786 - val_accuracy: 0.8915 - 964ms/epoch - 2ms/step\n",
            "Epoch 26/100\n",
            "568/568 - 2s - loss: 0.3218 - accuracy: 0.8728 - val_loss: 0.2762 - val_accuracy: 0.8948 - 2s/epoch - 3ms/step\n",
            "Epoch 27/100\n",
            "568/568 - 2s - loss: 0.3199 - accuracy: 0.8717 - val_loss: 0.2822 - val_accuracy: 0.8759 - 2s/epoch - 3ms/step\n",
            "Epoch 28/100\n",
            "568/568 - 1s - loss: 0.3184 - accuracy: 0.8727 - val_loss: 0.2753 - val_accuracy: 0.8974 - 1s/epoch - 2ms/step\n",
            "Epoch 29/100\n",
            "568/568 - 1s - loss: 0.3165 - accuracy: 0.8736 - val_loss: 0.2802 - val_accuracy: 0.8868 - 1s/epoch - 2ms/step\n",
            "Epoch 30/100\n",
            "568/568 - 1s - loss: 0.3159 - accuracy: 0.8721 - val_loss: 0.2788 - val_accuracy: 0.8812 - 978ms/epoch - 2ms/step\n",
            "Epoch 31/100\n",
            "568/568 - 1s - loss: 0.3139 - accuracy: 0.8741 - val_loss: 0.2820 - val_accuracy: 0.8765 - 996ms/epoch - 2ms/step\n",
            "Epoch 32/100\n",
            "568/568 - 1s - loss: 0.3129 - accuracy: 0.8745 - val_loss: 0.2771 - val_accuracy: 0.8856 - 954ms/epoch - 2ms/step\n",
            "Epoch 33/100\n",
            "568/568 - 1s - loss: 0.3116 - accuracy: 0.8745 - val_loss: 0.2770 - val_accuracy: 0.8838 - 1s/epoch - 2ms/step\n",
            "Epoch 34/100\n",
            "568/568 - 1s - loss: 0.3104 - accuracy: 0.8747 - val_loss: 0.2760 - val_accuracy: 0.8868 - 1s/epoch - 2ms/step\n",
            "Epoch 35/100\n",
            "568/568 - 1s - loss: 0.3093 - accuracy: 0.8749 - val_loss: 0.2749 - val_accuracy: 0.8912 - 1s/epoch - 3ms/step\n",
            "Epoch 36/100\n",
            "568/568 - 1s - loss: 0.3081 - accuracy: 0.8766 - val_loss: 0.2782 - val_accuracy: 0.8824 - 1s/epoch - 2ms/step\n",
            "Epoch 37/100\n",
            "568/568 - 1s - loss: 0.3072 - accuracy: 0.8750 - val_loss: 0.2785 - val_accuracy: 0.8800 - 1s/epoch - 2ms/step\n",
            "Epoch 38/100\n",
            "568/568 - 1s - loss: 0.3058 - accuracy: 0.8769 - val_loss: 0.2808 - val_accuracy: 0.8779 - 971ms/epoch - 2ms/step\n",
            "Epoch 39/100\n",
            "568/568 - 1s - loss: 0.3054 - accuracy: 0.8770 - val_loss: 0.2788 - val_accuracy: 0.8794 - 979ms/epoch - 2ms/step\n",
            "Epoch 40/100\n",
            "568/568 - 1s - loss: 0.3039 - accuracy: 0.8770 - val_loss: 0.2775 - val_accuracy: 0.8838 - 1s/epoch - 2ms/step\n",
            "Epoch 41/100\n",
            "568/568 - 1s - loss: 0.3032 - accuracy: 0.8784 - val_loss: 0.2736 - val_accuracy: 0.8670 - 950ms/epoch - 2ms/step\n",
            "Epoch 42/100\n",
            "568/568 - 1s - loss: 0.3024 - accuracy: 0.8792 - val_loss: 0.2758 - val_accuracy: 0.8762 - 1s/epoch - 2ms/step\n",
            "Epoch 43/100\n",
            "568/568 - 1s - loss: 0.3016 - accuracy: 0.8785 - val_loss: 0.2809 - val_accuracy: 0.8768 - 978ms/epoch - 2ms/step\n",
            "Epoch 44/100\n",
            "568/568 - 1s - loss: 0.3013 - accuracy: 0.8785 - val_loss: 0.2735 - val_accuracy: 0.8688 - 1s/epoch - 2ms/step\n",
            "Epoch 45/100\n",
            "568/568 - 1s - loss: 0.3008 - accuracy: 0.8801 - val_loss: 0.2755 - val_accuracy: 0.8620 - 999ms/epoch - 2ms/step\n",
            "Epoch 46/100\n",
            "568/568 - 2s - loss: 0.2995 - accuracy: 0.8788 - val_loss: 0.2737 - val_accuracy: 0.8656 - 2s/epoch - 3ms/step\n",
            "Epoch 47/100\n",
            "568/568 - 1s - loss: 0.2989 - accuracy: 0.8796 - val_loss: 0.2841 - val_accuracy: 0.8794 - 1s/epoch - 2ms/step\n",
            "Epoch 48/100\n",
            "568/568 - 1s - loss: 0.2980 - accuracy: 0.8804 - val_loss: 0.2777 - val_accuracy: 0.8662 - 1s/epoch - 3ms/step\n",
            "Epoch 49/100\n",
            "568/568 - 1s - loss: 0.2975 - accuracy: 0.8796 - val_loss: 0.2754 - val_accuracy: 0.8644 - 959ms/epoch - 2ms/step\n",
            "Epoch 50/100\n",
            "568/568 - 1s - loss: 0.2970 - accuracy: 0.8802 - val_loss: 0.2803 - val_accuracy: 0.8782 - 1s/epoch - 2ms/step\n",
            "Epoch 51/100\n",
            "568/568 - 1s - loss: 0.2958 - accuracy: 0.8803 - val_loss: 0.2746 - val_accuracy: 0.8688 - 971ms/epoch - 2ms/step\n",
            "Epoch 52/100\n",
            "568/568 - 1s - loss: 0.2960 - accuracy: 0.8803 - val_loss: 0.2788 - val_accuracy: 0.8741 - 981ms/epoch - 2ms/step\n",
            "Epoch 53/100\n",
            "568/568 - 1s - loss: 0.2954 - accuracy: 0.8817 - val_loss: 0.2773 - val_accuracy: 0.8641 - 1s/epoch - 2ms/step\n",
            "Epoch 54/100\n",
            "568/568 - 1s - loss: 0.2946 - accuracy: 0.8814 - val_loss: 0.2738 - val_accuracy: 0.8691 - 1s/epoch - 2ms/step\n",
            "Epoch 55/100\n",
            "568/568 - 1s - loss: 0.2942 - accuracy: 0.8799 - val_loss: 0.2739 - val_accuracy: 0.8644 - 1s/epoch - 2ms/step\n",
            "Epoch 56/100\n",
            "568/568 - 1s - loss: 0.2934 - accuracy: 0.8823 - val_loss: 0.2766 - val_accuracy: 0.8662 - 1s/epoch - 2ms/step\n",
            "Epoch 57/100\n",
            "568/568 - 1s - loss: 0.2929 - accuracy: 0.8806 - val_loss: 0.2762 - val_accuracy: 0.8647 - 954ms/epoch - 2ms/step\n",
            "Epoch 58/100\n",
            "568/568 - 1s - loss: 0.2923 - accuracy: 0.8810 - val_loss: 0.2784 - val_accuracy: 0.8588 - 1s/epoch - 2ms/step\n",
            "Epoch 59/100\n",
            "568/568 - 1s - loss: 0.2918 - accuracy: 0.8812 - val_loss: 0.2769 - val_accuracy: 0.8614 - 1s/epoch - 2ms/step\n",
            "Epoch 60/100\n",
            "568/568 - 1s - loss: 0.2915 - accuracy: 0.8806 - val_loss: 0.2777 - val_accuracy: 0.8597 - 1s/epoch - 3ms/step\n",
            "Epoch 61/100\n",
            "568/568 - 1s - loss: 0.2910 - accuracy: 0.8805 - val_loss: 0.2746 - val_accuracy: 0.8726 - 1s/epoch - 2ms/step\n",
            "Epoch 62/100\n",
            "568/568 - 1s - loss: 0.2900 - accuracy: 0.8826 - val_loss: 0.2766 - val_accuracy: 0.8665 - 1s/epoch - 2ms/step\n",
            "Epoch 63/100\n",
            "568/568 - 1s - loss: 0.2900 - accuracy: 0.8816 - val_loss: 0.2785 - val_accuracy: 0.8597 - 1s/epoch - 2ms/step\n",
            "Epoch 64/100\n",
            "568/568 - 1s - loss: 0.2890 - accuracy: 0.8813 - val_loss: 0.2755 - val_accuracy: 0.8676 - 1s/epoch - 2ms/step\n",
            "Epoch 65/100\n",
            "568/568 - 1s - loss: 0.2886 - accuracy: 0.8819 - val_loss: 0.2786 - val_accuracy: 0.8611 - 1s/epoch - 2ms/step\n",
            "Epoch 66/100\n",
            "568/568 - 1s - loss: 0.2879 - accuracy: 0.8830 - val_loss: 0.2842 - val_accuracy: 0.8670 - 960ms/epoch - 2ms/step\n",
            "Epoch 67/100\n",
            "568/568 - 1s - loss: 0.2877 - accuracy: 0.8808 - val_loss: 0.2760 - val_accuracy: 0.8712 - 1s/epoch - 2ms/step\n",
            "Epoch 68/100\n",
            "568/568 - 1s - loss: 0.2876 - accuracy: 0.8816 - val_loss: 0.2782 - val_accuracy: 0.8656 - 1s/epoch - 2ms/step\n",
            "Epoch 69/100\n",
            "568/568 - 1s - loss: 0.2865 - accuracy: 0.8821 - val_loss: 0.2785 - val_accuracy: 0.8659 - 1s/epoch - 2ms/step\n",
            "Epoch 70/100\n",
            "568/568 - 1s - loss: 0.2861 - accuracy: 0.8818 - val_loss: 0.2772 - val_accuracy: 0.8718 - 1s/epoch - 2ms/step\n",
            "Epoch 71/100\n",
            "568/568 - 1s - loss: 0.2866 - accuracy: 0.8822 - val_loss: 0.2759 - val_accuracy: 0.8561 - 1s/epoch - 2ms/step\n",
            "Epoch 72/100\n",
            "568/568 - 1s - loss: 0.2857 - accuracy: 0.8824 - val_loss: 0.2778 - val_accuracy: 0.8665 - 1s/epoch - 2ms/step\n",
            "Epoch 73/100\n",
            "568/568 - 1s - loss: 0.2860 - accuracy: 0.8822 - val_loss: 0.2785 - val_accuracy: 0.8632 - 1s/epoch - 2ms/step\n",
            "Epoch 74/100\n",
            "568/568 - 1s - loss: 0.2855 - accuracy: 0.8830 - val_loss: 0.2774 - val_accuracy: 0.8744 - 971ms/epoch - 2ms/step\n",
            "Epoch 75/100\n",
            "568/568 - 1s - loss: 0.2846 - accuracy: 0.8821 - val_loss: 0.2776 - val_accuracy: 0.8535 - 951ms/epoch - 2ms/step\n",
            "Epoch 76/100\n",
            "568/568 - 1s - loss: 0.2847 - accuracy: 0.8824 - val_loss: 0.2776 - val_accuracy: 0.8706 - 967ms/epoch - 2ms/step\n",
            "Epoch 77/100\n",
            "568/568 - 1s - loss: 0.2847 - accuracy: 0.8817 - val_loss: 0.2792 - val_accuracy: 0.8638 - 959ms/epoch - 2ms/step\n",
            "Epoch 78/100\n",
            "568/568 - 1s - loss: 0.2837 - accuracy: 0.8815 - val_loss: 0.2806 - val_accuracy: 0.8617 - 976ms/epoch - 2ms/step\n",
            "Epoch 79/100\n",
            "568/568 - 1s - loss: 0.2841 - accuracy: 0.8833 - val_loss: 0.2817 - val_accuracy: 0.8585 - 982ms/epoch - 2ms/step\n",
            "Epoch 80/100\n",
            "568/568 - 1s - loss: 0.2836 - accuracy: 0.8825 - val_loss: 0.2787 - val_accuracy: 0.8635 - 1s/epoch - 2ms/step\n",
            "Epoch 81/100\n",
            "568/568 - 1s - loss: 0.2834 - accuracy: 0.8810 - val_loss: 0.2784 - val_accuracy: 0.8665 - 1s/epoch - 2ms/step\n",
            "Epoch 82/100\n",
            "568/568 - 1s - loss: 0.2826 - accuracy: 0.8826 - val_loss: 0.2771 - val_accuracy: 0.8632 - 988ms/epoch - 2ms/step\n",
            "Epoch 83/100\n",
            "568/568 - 1s - loss: 0.2828 - accuracy: 0.8825 - val_loss: 0.2812 - val_accuracy: 0.8620 - 1s/epoch - 2ms/step\n",
            "Epoch 84/100\n",
            "568/568 - 1s - loss: 0.2816 - accuracy: 0.8831 - val_loss: 0.2801 - val_accuracy: 0.8597 - 1s/epoch - 3ms/step\n",
            "Epoch 85/100\n",
            "568/568 - 1s - loss: 0.2821 - accuracy: 0.8825 - val_loss: 0.2794 - val_accuracy: 0.8582 - 1s/epoch - 2ms/step\n",
            "Epoch 86/100\n",
            "568/568 - 1s - loss: 0.2814 - accuracy: 0.8807 - val_loss: 0.2793 - val_accuracy: 0.8588 - 1s/epoch - 2ms/step\n",
            "Epoch 87/100\n",
            "568/568 - 1s - loss: 0.2809 - accuracy: 0.8822 - val_loss: 0.2837 - val_accuracy: 0.8629 - 1s/epoch - 2ms/step\n",
            "Epoch 88/100\n",
            "568/568 - 1s - loss: 0.2811 - accuracy: 0.8819 - val_loss: 0.2819 - val_accuracy: 0.8623 - 1s/epoch - 2ms/step\n",
            "Epoch 89/100\n",
            "568/568 - 1s - loss: 0.2809 - accuracy: 0.8802 - val_loss: 0.2810 - val_accuracy: 0.8588 - 1s/epoch - 2ms/step\n",
            "Epoch 90/100\n",
            "568/568 - 1s - loss: 0.2803 - accuracy: 0.8811 - val_loss: 0.2829 - val_accuracy: 0.8647 - 1s/epoch - 2ms/step\n",
            "Epoch 91/100\n",
            "568/568 - 1s - loss: 0.2806 - accuracy: 0.8807 - val_loss: 0.2844 - val_accuracy: 0.8564 - 1s/epoch - 2ms/step\n",
            "Epoch 92/100\n",
            "568/568 - 1s - loss: 0.2800 - accuracy: 0.8823 - val_loss: 0.2834 - val_accuracy: 0.8617 - 1s/epoch - 2ms/step\n",
            "Epoch 93/100\n",
            "568/568 - 1s - loss: 0.2803 - accuracy: 0.8832 - val_loss: 0.2842 - val_accuracy: 0.8611 - 1s/epoch - 2ms/step\n",
            "Epoch 94/100\n",
            "568/568 - 1s - loss: 0.2797 - accuracy: 0.8835 - val_loss: 0.2863 - val_accuracy: 0.8653 - 1s/epoch - 2ms/step\n",
            "Epoch 95/100\n",
            "568/568 - 1s - loss: 0.2797 - accuracy: 0.8830 - val_loss: 0.2851 - val_accuracy: 0.8685 - 1s/epoch - 2ms/step\n",
            "Epoch 96/100\n",
            "568/568 - 1s - loss: 0.2792 - accuracy: 0.8830 - val_loss: 0.2857 - val_accuracy: 0.8600 - 1s/epoch - 2ms/step\n",
            "Epoch 97/100\n",
            "568/568 - 1s - loss: 0.2787 - accuracy: 0.8816 - val_loss: 0.2838 - val_accuracy: 0.8567 - 1s/epoch - 3ms/step\n",
            "Epoch 98/100\n",
            "568/568 - 1s - loss: 0.2788 - accuracy: 0.8841 - val_loss: 0.2886 - val_accuracy: 0.8635 - 1s/epoch - 2ms/step\n",
            "Epoch 99/100\n",
            "568/568 - 1s - loss: 0.2790 - accuracy: 0.8838 - val_loss: 0.2856 - val_accuracy: 0.8564 - 1s/epoch - 2ms/step\n",
            "Epoch 100/100\n",
            "568/568 - 1s - loss: 0.2783 - accuracy: 0.8834 - val_loss: 0.2854 - val_accuracy: 0.8626 - 1s/epoch - 2ms/step\n",
            "Neural Network took 143.2635269165039 seconds to train.\n"
          ]
        }
      ],
      "source": [
        "### Actually training the model\n",
        "\n",
        "batch_size = 24 # The number of samples the network sees before it backpropagates (batch size) # 24 & 32 yield accuracy = 87%\n",
        "epochs = 100 # The number of times the network will loop through the entire dataset (epochs)\n",
        "shuffle = True # Set whether to shuffle the training data so the model doesn't see it sequentially \n",
        "verbose = 2 # Set whether the model will output information when trained (0 = no output; 2 = output accuracy every epoch)\n",
        "\n",
        "# Train the neural network!\n",
        "start = time.time()\n",
        "\n",
        "history = nn.fit(x_train_bal, y_train_bal, validation_data=(x_test_bal, y_test_bal), \n",
        "          batch_size=batch_size, epochs=epochs, shuffle=shuffle, verbose=verbose)\n",
        "\n",
        "end = time.time()\n",
        "print(\"Neural Network took \"+str(end-start)+\" seconds to train.\")"
      ],
      "id": "gU1rD-nKW1gu"
    },
    {
      "cell_type": "code",
      "execution_count": 56,
      "metadata": {
        "colab": {
          "base_uri": "https://localhost:8080/",
          "height": 470
        },
        "id": "jIJ1y5qjW1gv",
        "outputId": "25d16083-e102-474a-c3af-626e79397b8b"
      },
      "outputs": [
        {
          "output_type": "display_data",
          "data": {
            "text/plain": [
              "<Figure size 640x480 with 2 Axes>"
            ],
            "image/png": "[encoded data removed]"
          },
          "metadata": {}
        }
      ],
      "source": [
        "#Accuracy & loss with epochs\n",
        "#Neural networks train in epochs. During each epoch, the model trains by sweeping over each layer, \n",
        "#adjusting weights based on their resulting errors, through processes called forward propagation and backpropagation. \n",
        "#By plotting the model accuracy & loss which each epoch, we can visualize how the model error evolves with training.\n",
        "\n",
        "figure, axes = plt.subplots(nrows=2,ncols=1)\n",
        "figure.tight_layout(pad=3.0)\n",
        "\n",
        "# plot accuracy during training\n",
        "plt.subplot(211)\n",
        "plt.title('Accuracy')\n",
        "plt.plot(history.history['accuracy'], label='train')\n",
        "plt.plot(history.history['val_accuracy'], label='test')\n",
        "plt.legend();\n",
        "\n",
        "# plot loss during training\n",
        "plt.subplot(212)\n",
        "plt.title('Loss')\n",
        "plt.plot(history.history['loss'], label='train')\n",
        "plt.plot(history.history['val_loss'], label='test')\n",
        "plt.xlabel(\"Epoch\");\n",
        "plt.legend()\n",
        "plt.show();"
      ],
      "id": "jIJ1y5qjW1gv"
    },
    {
      "cell_type": "code",
      "execution_count": 57,
      "metadata": {
        "colab": {
          "base_uri": "https://localhost:8080/",
          "height": 502
        },
        "id": "kPyta-hHW1gv",
        "outputId": "bd1852ef-9469-40a9-f485-751404a269c3"
      },
      "outputs": [
        {
          "output_type": "stream",
          "name": "stdout",
          "text": [
            "106/106 [==============================] - 0s 1ms/step\n",
            "Accuracy: 0.8626\n",
            "Recall: 0.855\n"
          ]
        },
        {
          "output_type": "display_data",
          "data": {
            "text/plain": [
              "<Figure size 640x480 with 2 Axes>"
            ],
            "image/png": "[encoded data removed]"
          },
          "metadata": {}
        }
      ],
      "source": [
        "##3. Assess Neural Network's performance using testing data\n",
        "## Though the accuracy is pictured above, additionally quantify recall on testing data with the \n",
        "## same functions used previously to remain consistent\n",
        "\n",
        "pred_test= (nn.predict(x_test_bal)>0.5).astype(\"int32\")\n",
        "nn_acc, nn_rec = bin_metrics(y_test_bal, pred_test)\n",
        "plot_cm(y_test_bal, pred_test)"
      ],
      "id": "kPyta-hHW1gv"
    },
    {
      "cell_type": "code",
      "execution_count": 58,
      "metadata": {
        "colab": {
          "base_uri": "https://localhost:8080/"
        },
        "id": "e83VlbanW1gw",
        "outputId": "305975ea-e072-4307-b005-f7d5e8f71206"
      },
      "outputs": [
        {
          "output_type": "stream",
          "name": "stdout",
          "text": [
            "Training metrics:\n",
            "426/426 [==============================] - 1s 1ms/step\n",
            "Accuracy: 0.8827\n",
            "Recall: 0.8899\n",
            " \n",
            "Testing metrics:\n",
            "Accuracy: 0.8626\n",
            "Recall: 0.855\n"
          ]
        }
      ],
      "source": [
        "## 4. Check to see if the Neural Network is overfitting (or underfitting)\n",
        "#Remember:\n",
        "#testing metrics > training metrics = underfitting, model is too simple\n",
        "#testing metrics < training metrics = overfitting, model is too complex\n",
        "\n",
        "#Note: Neural networks can easily overfit because they are complex and can fit to the training data extremely well, \n",
        "# Overfitting prevents neural networks from generalizing to other data (like the testing data).\n",
        "\n",
        "# Compare testing data metrics to data training metrics.\n",
        "print(\"Training metrics:\")\n",
        "nn_pred_train= (nn.predict(x_train_bal)>0.5).astype(\"int32\")\n",
        "bin_metrics(y_train_bal,nn_pred_train);\n",
        "\n",
        "# As a reminder, display testing metrics:\n",
        "print(\" \")\n",
        "print(\"Testing metrics:\")\n",
        "bin_metrics(y_test_bal, pred_test);"
      ],
      "id": "e83VlbanW1gw"
    },
    {
      "cell_type": "code",
      "execution_count": 59,
      "metadata": {
        "colab": {
          "base_uri": "https://localhost:8080/"
        },
        "id": "TtGF6AYqW1gy",
        "outputId": "9c001ed4-0ee9-4d4a-d0d5-6a7aeb43e690"
      },
      "outputs": [
        {
          "output_type": "stream",
          "name": "stdout",
          "text": [
            "1/1 [==============================] - 0s 59ms/step\n",
            "The meteorological conditions are: \n",
            "day             2016-06-08\n",
            "hour              0.583333\n",
            "temp_F                75.0\n",
            "RH                    50.0\n",
            "dewtemp_F             55.2\n",
            "wind_mph               8.8\n",
            "wind_dir               200\n",
            "windgust              21.4\n",
            "windgust_dir           256\n",
            "pres_Hg              839.8\n",
            "SOLIN_Wm2            233.1\n",
            "Prec_inches           0.04\n",
            "prec_occur               1\n",
            "Name: 3830, dtype: object\n",
            "There is a 93.74% chance of precipitation given those meteorological conditions.\n"
          ]
        }
      ],
      "source": [
        "## 5. Make a prediction with the Neural Network\n",
        "\n",
        "# prediction output is in the format [probability no rain, probability rain]\n",
        "nn_prediction = nn.predict(np.array(testpredictor).reshape(1, -1))[0][0]*100\n",
        "print(\"The meteorological conditions are: \")\n",
        "print(origvals)\n",
        "print(\"There is a {0:.{digits}f}% chance of precipitation given those meteorological conditions.\".format(nn_prediction, digits=2))\n"
      ],
      "id": "TtGF6AYqW1gy"
    },
    {
      "cell_type": "markdown",
      "metadata": {
        "id": "JYXYPJIdW1gz"
      },
      "source": [
        "## SUMMARY: Compare all Four Machine Learning Models"
      ],
      "id": "JYXYPJIdW1gz"
    },
    {
      "cell_type": "code",
      "execution_count": 60,
      "metadata": {
        "colab": {
          "base_uri": "https://localhost:8080/",
          "height": 175
        },
        "id": "ZCIvp_TpW1gz",
        "outputId": "6609b06c-76e3-44d3-b557-7864f5a63c48"
      },
      "outputs": [
        {
          "output_type": "execute_result",
          "data": {
            "text/plain": [
              "                    Logistic Regression  Random Forest  \\\n",
              "Metrics                                                  \n",
              "Accuracy                       0.855348       0.759813   \n",
              "Recall                         0.881356       0.645577   \n",
              "Prediction example            64.948721      44.410718   \n",
              "\n",
              "                    Singular Vector Machine  Neural Network  \n",
              "Metrics                                                      \n",
              "Accuracy                           0.857101        0.862618  \n",
              "Recall                             0.823944        0.854953  \n",
              "Prediction example                99.999484       93.743247  "
            ],
            "text/html": [
              "\n",
              "  <div id=\"df-3b27bf4d-0e52-4449-a453-3d353b414eaa\">\n",
              "    <div class=\"colab-df-container\">\n",
              "      <div>\n",
              "<style scoped>\n",
              "    .dataframe tbody tr th:only-of-type {\n",
              "        vertical-align: middle;\n",
              "    }\n",
              "\n",
              "    .dataframe tbody tr th {\n",
              "        vertical-align: top;\n",
              "    }\n",
              "\n",
              "    .dataframe thead th {\n",
              "        text-align: right;\n",
              "    }\n",
              "</style>\n",
              "<table border=\"1\" class=\"dataframe\">\n",
              "  <thead>\n",
              "    <tr style=\"text-align: right;\">\n",
              "      <th></th>\n",
              "      <th>Logistic Regression</th>\n",
              "      <th>Random Forest</th>\n",
              "      <th>Singular Vector Machine</th>\n",
              "      <th>Neural Network</th>\n",
              "    </tr>\n",
              "    <tr>\n",
              "      <th>Metrics</th>\n",
              "      <th></th>\n",
              "      <th></th>\n",
              "      <th></th>\n",
              "      <th></th>\n",
              "    </tr>\n",
              "  </thead>\n",
              "  <tbody>\n",
              "    <tr>\n",
              "      <th>Accuracy</th>\n",
              "      <td>0.855348</td>\n",
              "      <td>0.759813</td>\n",
              "      <td>0.857101</td>\n",
              "      <td>0.862618</td>\n",
              "    </tr>\n",
              "    <tr>\n",
              "      <th>Recall</th>\n",
              "      <td>0.881356</td>\n",
              "      <td>0.645577</td>\n",
              "      <td>0.823944</td>\n",
              "      <td>0.854953</td>\n",
              "    </tr>\n",
              "    <tr>\n",
              "      <th>Prediction example</th>\n",
              "      <td>64.948721</td>\n",
              "      <td>44.410718</td>\n",
              "      <td>99.999484</td>\n",
              "      <td>93.743247</td>\n",
              "    </tr>\n",
              "  </tbody>\n",
              "</table>\n",
              "</div>\n",
              "      <button class=\"colab-df-convert\" onclick=\"convertToInteractive('df-3b27bf4d-0e52-4449-a453-3d353b414eaa')\"\n",
              "              title=\"Convert this dataframe to an interactive table.\"\n",
              "              style=\"display:none;\">\n",
              "        \n",
              "  <svg xmlns=\"http://www.w3.org/2000/svg\" height=\"24px\"viewBox=\"0 0 24 24\"\n",
              "       width=\"24px\">\n",
              "    <path d=\"M0 0h24v24H0V0z\" fill=\"none\"/>\n",
              "    <path d=\"M18.56 5.44l.94 2.06.94-2.06 2.06-.94-2.06-.94-.94-2.06-.94 2.06-2.06.94zm-11 1L8.5 8.5l.94-2.06 2.06-.94-2.06-.94L8.5 2.5l-.94 2.06-2.06.94zm10 10l.94 2.06.94-2.06 2.06-.94-2.06-.94-.94-2.06-.94 2.06-2.06.94z\"/><path d=\"M17.41 7.96l-1.37-1.37c-.4-.4-.92-.59-1.43-.59-.52 0-1.04.2-1.43.59L10.3 9.45l-7.72 7.72c-.78.78-.78 2.05 0 2.83L4 21.41c.39.39.9.59 1.41.59.51 0 1.02-.2 1.41-.59l7.78-7.78 2.81-2.81c.8-.78.8-2.07 0-2.86zM5.41 20L4 18.59l7.72-7.72 1.47 1.35L5.41 20z\"/>\n",
              "  </svg>\n",
              "      </button>\n",
              "      \n",
              "  <style>\n",
              "    .colab-df-container {\n",
              "      display:flex;\n",
              "      flex-wrap:wrap;\n",
              "      gap: 12px;\n",
              "    }\n",
              "\n",
              "    .colab-df-convert {\n",
              "      background-color: #E8F0FE;\n",
              "      border: none;\n",
              "      border-radius: 50%;\n",
              "      cursor: pointer;\n",
              "      display: none;\n",
              "      fill: #1967D2;\n",
              "      height: 32px;\n",
              "      padding: 0 0 0 0;\n",
              "      width: 32px;\n",
              "    }\n",
              "\n",
              "    .colab-df-convert:hover {\n",
              "      background-color: #E2EBFA;\n",
              "      box-shadow: 0px 1px 2px rgba(60, 64, 67, 0.3), 0px 1px 3px 1px rgba(60, 64, 67, 0.15);\n",
              "      fill: #174EA6;\n",
              "    }\n",
              "\n",
              "    [theme=dark] .colab-df-convert {\n",
              "      background-color: #3B4455;\n",
              "      fill: #D2E3FC;\n",
              "    }\n",
              "\n",
              "    [theme=dark] .colab-df-convert:hover {\n",
              "      background-color: #434B5C;\n",
              "      box-shadow: 0px 1px 3px 1px rgba(0, 0, 0, 0.15);\n",
              "      filter: drop-shadow(0px 1px 2px rgba(0, 0, 0, 0.3));\n",
              "      fill: #FFFFFF;\n",
              "    }\n",
              "  </style>\n",
              "\n",
              "      <script>\n",
              "        const buttonEl =\n",
              "          document.querySelector('#df-3b27bf4d-0e52-4449-a453-3d353b414eaa button.colab-df-convert');\n",
              "        buttonEl.style.display =\n",
              "          google.colab.kernel.accessAllowed ? 'block' : 'none';\n",
              "\n",
              "        async function convertToInteractive(key) {\n",
              "          const element = document.querySelector('#df-3b27bf4d-0e52-4449-a453-3d353b414eaa');\n",
              "          const dataTable =\n",
              "            await google.colab.kernel.invokeFunction('convertToInteractive',\n",
              "                                                     [key], {});\n",
              "          if (!dataTable) return;\n",
              "\n",
              "          const docLinkHtml = 'Like what you see? Visit the ' +\n",
              "            '<a target=\"_blank\" href=https://colab.research.google.com/notebooks/data_table.ipynb>data table notebook</a>'\n",
              "            + ' to learn more about interactive tables.';\n",
              "          element.innerHTML = '';\n",
              "          dataTable['output_type'] = 'display_data';\n",
              "          await google.colab.output.renderOutput(dataTable, element);\n",
              "          const docLink = document.createElement('div');\n",
              "          docLink.innerHTML = docLinkHtml;\n",
              "          element.appendChild(docLink);\n",
              "        }\n",
              "      </script>\n",
              "    </div>\n",
              "  </div>\n",
              "  "
            ]
          },
          "metadata": {},
          "execution_count": 60
        }
      ],
      "source": [
        "model_metrics = pd.DataFrame({'Metrics':['Accuracy','Recall','Prediction example'],\n",
        "     'Logistic Regression':[lr_acc, lr_rec, lr_prediction],\n",
        "    'Random Forest':[forest_acc, forest_rec, forest_prediction],\n",
        "    'Singular Vector Machine':[svm_acc, svm_rec, svm_prediction],\n",
        "    'Neural Network':[nn_acc, nn_rec, nn_prediction]})\n",
        "model_metrics = model_metrics.set_index('Metrics')\n",
        "model_metrics"
      ],
      "id": "ZCIvp_TpW1gz"
    },
    {
      "cell_type": "markdown",
      "metadata": {
        "id": "OvZ-t8UZW1g0"
      },
      "source": [
        "## STEP 4: Assess Feature Importance\n",
        "\n",
        "Note: Feature Importance is not possible with non-linear Singular Vector Machines because the data is transformed by the kernel into another space that is unrelated to the input space."
      ],
      "id": "OvZ-t8UZW1g0"
    },
    {
      "cell_type": "code",
      "execution_count": 61,
      "metadata": {
        "colab": {
          "base_uri": "https://localhost:8080/",
          "height": 331
        },
        "id": "LEgVxntOW1g1",
        "outputId": "557dd24c-9094-4bab-e25e-3714bacd358f"
      },
      "outputs": [
        {
          "output_type": "execute_result",
          "data": {
            "text/plain": [
              "              importance\n",
              "RH              9.530764\n",
              "windgust        7.344383\n",
              "temp_F          3.987546\n",
              "SOLIN_Wm2       1.644007\n",
              "wind_mph        1.245669\n",
              "pres_Hg         0.962764\n",
              "windgust_dir    0.057109\n",
              "dewtemp_F       0.054446\n",
              "wind_dir        0.030738"
            ],
            "text/html": [
              "\n",
              "  <div id=\"df-018af68d-06a8-4bf5-bb8a-69ba271acd78\">\n",
              "    <div class=\"colab-df-container\">\n",
              "      <div>\n",
              "<style scoped>\n",
              "    .dataframe tbody tr th:only-of-type {\n",
              "        vertical-align: middle;\n",
              "    }\n",
              "\n",
              "    .dataframe tbody tr th {\n",
              "        vertical-align: top;\n",
              "    }\n",
              "\n",
              "    .dataframe thead th {\n",
              "        text-align: right;\n",
              "    }\n",
              "</style>\n",
              "<table border=\"1\" class=\"dataframe\">\n",
              "  <thead>\n",
              "    <tr style=\"text-align: right;\">\n",
              "      <th></th>\n",
              "      <th>importance</th>\n",
              "    </tr>\n",
              "  </thead>\n",
              "  <tbody>\n",
              "    <tr>\n",
              "      <th>RH</th>\n",
              "      <td>9.530764</td>\n",
              "    </tr>\n",
              "    <tr>\n",
              "      <th>windgust</th>\n",
              "      <td>7.344383</td>\n",
              "    </tr>\n",
              "    <tr>\n",
              "      <th>temp_F</th>\n",
              "      <td>3.987546</td>\n",
              "    </tr>\n",
              "    <tr>\n",
              "      <th>SOLIN_Wm2</th>\n",
              "      <td>1.644007</td>\n",
              "    </tr>\n",
              "    <tr>\n",
              "      <th>wind_mph</th>\n",
              "      <td>1.245669</td>\n",
              "    </tr>\n",
              "    <tr>\n",
              "      <th>pres_Hg</th>\n",
              "      <td>0.962764</td>\n",
              "    </tr>\n",
              "    <tr>\n",
              "      <th>windgust_dir</th>\n",
              "      <td>0.057109</td>\n",
              "    </tr>\n",
              "    <tr>\n",
              "      <th>dewtemp_F</th>\n",
              "      <td>0.054446</td>\n",
              "    </tr>\n",
              "    <tr>\n",
              "      <th>wind_dir</th>\n",
              "      <td>0.030738</td>\n",
              "    </tr>\n",
              "  </tbody>\n",
              "</table>\n",
              "</div>\n",
              "      <button class=\"colab-df-convert\" onclick=\"convertToInteractive('df-018af68d-06a8-4bf5-bb8a-69ba271acd78')\"\n",
              "              title=\"Convert this dataframe to an interactive table.\"\n",
              "              style=\"display:none;\">\n",
              "        \n",
              "  <svg xmlns=\"http://www.w3.org/2000/svg\" height=\"24px\"viewBox=\"0 0 24 24\"\n",
              "       width=\"24px\">\n",
              "    <path d=\"M0 0h24v24H0V0z\" fill=\"none\"/>\n",
              "    <path d=\"M18.56 5.44l.94 2.06.94-2.06 2.06-.94-2.06-.94-.94-2.06-.94 2.06-2.06.94zm-11 1L8.5 8.5l.94-2.06 2.06-.94-2.06-.94L8.5 2.5l-.94 2.06-2.06.94zm10 10l.94 2.06.94-2.06 2.06-.94-2.06-.94-.94-2.06-.94 2.06-2.06.94z\"/><path d=\"M17.41 7.96l-1.37-1.37c-.4-.4-.92-.59-1.43-.59-.52 0-1.04.2-1.43.59L10.3 9.45l-7.72 7.72c-.78.78-.78 2.05 0 2.83L4 21.41c.39.39.9.59 1.41.59.51 0 1.02-.2 1.41-.59l7.78-7.78 2.81-2.81c.8-.78.8-2.07 0-2.86zM5.41 20L4 18.59l7.72-7.72 1.47 1.35L5.41 20z\"/>\n",
              "  </svg>\n",
              "      </button>\n",
              "      \n",
              "  <style>\n",
              "    .colab-df-container {\n",
              "      display:flex;\n",
              "      flex-wrap:wrap;\n",
              "      gap: 12px;\n",
              "    }\n",
              "\n",
              "    .colab-df-convert {\n",
              "      background-color: #E8F0FE;\n",
              "      border: none;\n",
              "      border-radius: 50%;\n",
              "      cursor: pointer;\n",
              "      display: none;\n",
              "      fill: #1967D2;\n",
              "      height: 32px;\n",
              "      padding: 0 0 0 0;\n",
              "      width: 32px;\n",
              "    }\n",
              "\n",
              "    .colab-df-convert:hover {\n",
              "      background-color: #E2EBFA;\n",
              "      box-shadow: 0px 1px 2px rgba(60, 64, 67, 0.3), 0px 1px 3px 1px rgba(60, 64, 67, 0.15);\n",
              "      fill: #174EA6;\n",
              "    }\n",
              "\n",
              "    [theme=dark] .colab-df-convert {\n",
              "      background-color: #3B4455;\n",
              "      fill: #D2E3FC;\n",
              "    }\n",
              "\n",
              "    [theme=dark] .colab-df-convert:hover {\n",
              "      background-color: #434B5C;\n",
              "      box-shadow: 0px 1px 3px 1px rgba(0, 0, 0, 0.15);\n",
              "      filter: drop-shadow(0px 1px 2px rgba(0, 0, 0, 0.3));\n",
              "      fill: #FFFFFF;\n",
              "    }\n",
              "  </style>\n",
              "\n",
              "      <script>\n",
              "        const buttonEl =\n",
              "          document.querySelector('#df-018af68d-06a8-4bf5-bb8a-69ba271acd78 button.colab-df-convert');\n",
              "        buttonEl.style.display =\n",
              "          google.colab.kernel.accessAllowed ? 'block' : 'none';\n",
              "\n",
              "        async function convertToInteractive(key) {\n",
              "          const element = document.querySelector('#df-018af68d-06a8-4bf5-bb8a-69ba271acd78');\n",
              "          const dataTable =\n",
              "            await google.colab.kernel.invokeFunction('convertToInteractive',\n",
              "                                                     [key], {});\n",
              "          if (!dataTable) return;\n",
              "\n",
              "          const docLinkHtml = 'Like what you see? Visit the ' +\n",
              "            '<a target=\"_blank\" href=https://colab.research.google.com/notebooks/data_table.ipynb>data table notebook</a>'\n",
              "            + ' to learn more about interactive tables.';\n",
              "          element.innerHTML = '';\n",
              "          dataTable['output_type'] = 'display_data';\n",
              "          await google.colab.output.renderOutput(dataTable, element);\n",
              "          const docLink = document.createElement('div');\n",
              "          docLink.innerHTML = docLinkHtml;\n",
              "          element.appendChild(docLink);\n",
              "        }\n",
              "      </script>\n",
              "    </div>\n",
              "  </div>\n",
              "  "
            ]
          },
          "metadata": {},
          "execution_count": 61
        }
      ],
      "source": [
        "## Feature importance in Logistical Regression Model\n",
        "\n",
        "pd.DataFrame(abs(lr.coef_[0]),\n",
        "             index = x.columns,\n",
        "             columns=['importance']).sort_values('importance',ascending=False)"
      ],
      "id": "LEgVxntOW1g1"
    },
    {
      "cell_type": "code",
      "execution_count": 62,
      "metadata": {
        "colab": {
          "base_uri": "https://localhost:8080/",
          "height": 331
        },
        "id": "sEtbULVLW1g1",
        "outputId": "19667543-5991-4e27-cf68-749202055509"
      },
      "outputs": [
        {
          "output_type": "execute_result",
          "data": {
            "text/plain": [
              "              importance\n",
              "RH              0.526098\n",
              "dewtemp_F       0.243672\n",
              "temp_F          0.131063\n",
              "windgust        0.052779\n",
              "wind_mph        0.041848\n",
              "windgust_dir    0.004539\n",
              "wind_dir        0.000000\n",
              "pres_Hg         0.000000\n",
              "SOLIN_Wm2       0.000000"
            ],
            "text/html": [
              "\n",
              "  <div id=\"df-e66acf1c-968f-4bf8-8888-4ee85181131d\">\n",
              "    <div class=\"colab-df-container\">\n",
              "      <div>\n",
              "<style scoped>\n",
              "    .dataframe tbody tr th:only-of-type {\n",
              "        vertical-align: middle;\n",
              "    }\n",
              "\n",
              "    .dataframe tbody tr th {\n",
              "        vertical-align: top;\n",
              "    }\n",
              "\n",
              "    .dataframe thead th {\n",
              "        text-align: right;\n",
              "    }\n",
              "</style>\n",
              "<table border=\"1\" class=\"dataframe\">\n",
              "  <thead>\n",
              "    <tr style=\"text-align: right;\">\n",
              "      <th></th>\n",
              "      <th>importance</th>\n",
              "    </tr>\n",
              "  </thead>\n",
              "  <tbody>\n",
              "    <tr>\n",
              "      <th>RH</th>\n",
              "      <td>0.526098</td>\n",
              "    </tr>\n",
              "    <tr>\n",
              "      <th>dewtemp_F</th>\n",
              "      <td>0.243672</td>\n",
              "    </tr>\n",
              "    <tr>\n",
              "      <th>temp_F</th>\n",
              "      <td>0.131063</td>\n",
              "    </tr>\n",
              "    <tr>\n",
              "      <th>windgust</th>\n",
              "      <td>0.052779</td>\n",
              "    </tr>\n",
              "    <tr>\n",
              "      <th>wind_mph</th>\n",
              "      <td>0.041848</td>\n",
              "    </tr>\n",
              "    <tr>\n",
              "      <th>windgust_dir</th>\n",
              "      <td>0.004539</td>\n",
              "    </tr>\n",
              "    <tr>\n",
              "      <th>wind_dir</th>\n",
              "      <td>0.000000</td>\n",
              "    </tr>\n",
              "    <tr>\n",
              "      <th>pres_Hg</th>\n",
              "      <td>0.000000</td>\n",
              "    </tr>\n",
              "    <tr>\n",
              "      <th>SOLIN_Wm2</th>\n",
              "      <td>0.000000</td>\n",
              "    </tr>\n",
              "  </tbody>\n",
              "</table>\n",
              "</div>\n",
              "      <button class=\"colab-df-convert\" onclick=\"convertToInteractive('df-e66acf1c-968f-4bf8-8888-4ee85181131d')\"\n",
              "              title=\"Convert this dataframe to an interactive table.\"\n",
              "              style=\"display:none;\">\n",
              "        \n",
              "  <svg xmlns=\"http://www.w3.org/2000/svg\" height=\"24px\"viewBox=\"0 0 24 24\"\n",
              "       width=\"24px\">\n",
              "    <path d=\"M0 0h24v24H0V0z\" fill=\"none\"/>\n",
              "    <path d=\"M18.56 5.44l.94 2.06.94-2.06 2.06-.94-2.06-.94-.94-2.06-.94 2.06-2.06.94zm-11 1L8.5 8.5l.94-2.06 2.06-.94-2.06-.94L8.5 2.5l-.94 2.06-2.06.94zm10 10l.94 2.06.94-2.06 2.06-.94-2.06-.94-.94-2.06-.94 2.06-2.06.94z\"/><path d=\"M17.41 7.96l-1.37-1.37c-.4-.4-.92-.59-1.43-.59-.52 0-1.04.2-1.43.59L10.3 9.45l-7.72 7.72c-.78.78-.78 2.05 0 2.83L4 21.41c.39.39.9.59 1.41.59.51 0 1.02-.2 1.41-.59l7.78-7.78 2.81-2.81c.8-.78.8-2.07 0-2.86zM5.41 20L4 18.59l7.72-7.72 1.47 1.35L5.41 20z\"/>\n",
              "  </svg>\n",
              "      </button>\n",
              "      \n",
              "  <style>\n",
              "    .colab-df-container {\n",
              "      display:flex;\n",
              "      flex-wrap:wrap;\n",
              "      gap: 12px;\n",
              "    }\n",
              "\n",
              "    .colab-df-convert {\n",
              "      background-color: #E8F0FE;\n",
              "      border: none;\n",
              "      border-radius: 50%;\n",
              "      cursor: pointer;\n",
              "      display: none;\n",
              "      fill: #1967D2;\n",
              "      height: 32px;\n",
              "      padding: 0 0 0 0;\n",
              "      width: 32px;\n",
              "    }\n",
              "\n",
              "    .colab-df-convert:hover {\n",
              "      background-color: #E2EBFA;\n",
              "      box-shadow: 0px 1px 2px rgba(60, 64, 67, 0.3), 0px 1px 3px 1px rgba(60, 64, 67, 0.15);\n",
              "      fill: #174EA6;\n",
              "    }\n",
              "\n",
              "    [theme=dark] .colab-df-convert {\n",
              "      background-color: #3B4455;\n",
              "      fill: #D2E3FC;\n",
              "    }\n",
              "\n",
              "    [theme=dark] .colab-df-convert:hover {\n",
              "      background-color: #434B5C;\n",
              "      box-shadow: 0px 1px 3px 1px rgba(0, 0, 0, 0.15);\n",
              "      filter: drop-shadow(0px 1px 2px rgba(0, 0, 0, 0.3));\n",
              "      fill: #FFFFFF;\n",
              "    }\n",
              "  </style>\n",
              "\n",
              "      <script>\n",
              "        const buttonEl =\n",
              "          document.querySelector('#df-e66acf1c-968f-4bf8-8888-4ee85181131d button.colab-df-convert');\n",
              "        buttonEl.style.display =\n",
              "          google.colab.kernel.accessAllowed ? 'block' : 'none';\n",
              "\n",
              "        async function convertToInteractive(key) {\n",
              "          const element = document.querySelector('#df-e66acf1c-968f-4bf8-8888-4ee85181131d');\n",
              "          const dataTable =\n",
              "            await google.colab.kernel.invokeFunction('convertToInteractive',\n",
              "                                                     [key], {});\n",
              "          if (!dataTable) return;\n",
              "\n",
              "          const docLinkHtml = 'Like what you see? Visit the ' +\n",
              "            '<a target=\"_blank\" href=https://colab.research.google.com/notebooks/data_table.ipynb>data table notebook</a>'\n",
              "            + ' to learn more about interactive tables.';\n",
              "          element.innerHTML = '';\n",
              "          dataTable['output_type'] = 'display_data';\n",
              "          await google.colab.output.renderOutput(dataTable, element);\n",
              "          const docLink = document.createElement('div');\n",
              "          docLink.innerHTML = docLinkHtml;\n",
              "          element.appendChild(docLink);\n",
              "        }\n",
              "      </script>\n",
              "    </div>\n",
              "  </div>\n",
              "  "
            ]
          },
          "metadata": {},
          "execution_count": 62
        }
      ],
      "source": [
        "## Feature importance in Random Forest Model\n",
        "\n",
        "pd.DataFrame(forest.feature_importances_,\n",
        "                                   index = x.columns, \n",
        "                                   columns=['importance']).sort_values('importance', ascending=False)"
      ],
      "id": "sEtbULVLW1g1"
    },
    {
      "cell_type": "code",
      "execution_count": 63,
      "metadata": {
        "colab": {
          "base_uri": "https://localhost:8080/",
          "height": 491
        },
        "id": "aS1xRYVzW1g2",
        "outputId": "75ea51f1-9758-4cbe-ba5b-08ed6662c844"
      },
      "outputs": [
        {
          "output_type": "stream",
          "name": "stdout",
          "text": [
            "1/1 [==============================] - 0s 71ms/step\n",
            "1/1 [==============================] - 0s 22ms/step\n",
            "1/1 [==============================] - 0s 22ms/step\n",
            "1/1 [==============================] - 0s 26ms/step\n",
            "1/1 [==============================] - 0s 22ms/step\n",
            "1/1 [==============================] - 0s 27ms/step\n",
            "1/1 [==============================] - 0s 25ms/step\n",
            "1/1 [==============================] - 0s 21ms/step\n",
            "1/1 [==============================] - 0s 23ms/step\n"
          ]
        },
        {
          "output_type": "execute_result",
          "data": {
            "text/plain": [
              "              importance\n",
              "RH             99.999446\n",
              "windgust       26.800570\n",
              "SOLIN_Wm2      11.369095\n",
              "wind_mph        0.400172\n",
              "dewtemp_F       0.160902\n",
              "wind_dir        0.016177\n",
              "pres_Hg         0.000225\n",
              "windgust_dir    0.000132\n",
              "temp_F          0.000050"
            ],
            "text/html": [
              "\n",
              "  <div id=\"df-824da161-86e6-432d-bab4-ffe581cd7ac1\">\n",
              "    <div class=\"colab-df-container\">\n",
              "      <div>\n",
              "<style scoped>\n",
              "    .dataframe tbody tr th:only-of-type {\n",
              "        vertical-align: middle;\n",
              "    }\n",
              "\n",
              "    .dataframe tbody tr th {\n",
              "        vertical-align: top;\n",
              "    }\n",
              "\n",
              "    .dataframe thead th {\n",
              "        text-align: right;\n",
              "    }\n",
              "</style>\n",
              "<table border=\"1\" class=\"dataframe\">\n",
              "  <thead>\n",
              "    <tr style=\"text-align: right;\">\n",
              "      <th></th>\n",
              "      <th>importance</th>\n",
              "    </tr>\n",
              "  </thead>\n",
              "  <tbody>\n",
              "    <tr>\n",
              "      <th>RH</th>\n",
              "      <td>99.999446</td>\n",
              "    </tr>\n",
              "    <tr>\n",
              "      <th>windgust</th>\n",
              "      <td>26.800570</td>\n",
              "    </tr>\n",
              "    <tr>\n",
              "      <th>SOLIN_Wm2</th>\n",
              "      <td>11.369095</td>\n",
              "    </tr>\n",
              "    <tr>\n",
              "      <th>wind_mph</th>\n",
              "      <td>0.400172</td>\n",
              "    </tr>\n",
              "    <tr>\n",
              "      <th>dewtemp_F</th>\n",
              "      <td>0.160902</td>\n",
              "    </tr>\n",
              "    <tr>\n",
              "      <th>wind_dir</th>\n",
              "      <td>0.016177</td>\n",
              "    </tr>\n",
              "    <tr>\n",
              "      <th>pres_Hg</th>\n",
              "      <td>0.000225</td>\n",
              "    </tr>\n",
              "    <tr>\n",
              "      <th>windgust_dir</th>\n",
              "      <td>0.000132</td>\n",
              "    </tr>\n",
              "    <tr>\n",
              "      <th>temp_F</th>\n",
              "      <td>0.000050</td>\n",
              "    </tr>\n",
              "  </tbody>\n",
              "</table>\n",
              "</div>\n",
              "      <button class=\"colab-df-convert\" onclick=\"convertToInteractive('df-824da161-86e6-432d-bab4-ffe581cd7ac1')\"\n",
              "              title=\"Convert this dataframe to an interactive table.\"\n",
              "              style=\"display:none;\">\n",
              "        \n",
              "  <svg xmlns=\"http://www.w3.org/2000/svg\" height=\"24px\"viewBox=\"0 0 24 24\"\n",
              "       width=\"24px\">\n",
              "    <path d=\"M0 0h24v24H0V0z\" fill=\"none\"/>\n",
              "    <path d=\"M18.56 5.44l.94 2.06.94-2.06 2.06-.94-2.06-.94-.94-2.06-.94 2.06-2.06.94zm-11 1L8.5 8.5l.94-2.06 2.06-.94-2.06-.94L8.5 2.5l-.94 2.06-2.06.94zm10 10l.94 2.06.94-2.06 2.06-.94-2.06-.94-.94-2.06-.94 2.06-2.06.94z\"/><path d=\"M17.41 7.96l-1.37-1.37c-.4-.4-.92-.59-1.43-.59-.52 0-1.04.2-1.43.59L10.3 9.45l-7.72 7.72c-.78.78-.78 2.05 0 2.83L4 21.41c.39.39.9.59 1.41.59.51 0 1.02-.2 1.41-.59l7.78-7.78 2.81-2.81c.8-.78.8-2.07 0-2.86zM5.41 20L4 18.59l7.72-7.72 1.47 1.35L5.41 20z\"/>\n",
              "  </svg>\n",
              "      </button>\n",
              "      \n",
              "  <style>\n",
              "    .colab-df-container {\n",
              "      display:flex;\n",
              "      flex-wrap:wrap;\n",
              "      gap: 12px;\n",
              "    }\n",
              "\n",
              "    .colab-df-convert {\n",
              "      background-color: #E8F0FE;\n",
              "      border: none;\n",
              "      border-radius: 50%;\n",
              "      cursor: pointer;\n",
              "      display: none;\n",
              "      fill: #1967D2;\n",
              "      height: 32px;\n",
              "      padding: 0 0 0 0;\n",
              "      width: 32px;\n",
              "    }\n",
              "\n",
              "    .colab-df-convert:hover {\n",
              "      background-color: #E2EBFA;\n",
              "      box-shadow: 0px 1px 2px rgba(60, 64, 67, 0.3), 0px 1px 3px 1px rgba(60, 64, 67, 0.15);\n",
              "      fill: #174EA6;\n",
              "    }\n",
              "\n",
              "    [theme=dark] .colab-df-convert {\n",
              "      background-color: #3B4455;\n",
              "      fill: #D2E3FC;\n",
              "    }\n",
              "\n",
              "    [theme=dark] .colab-df-convert:hover {\n",
              "      background-color: #434B5C;\n",
              "      box-shadow: 0px 1px 3px 1px rgba(0, 0, 0, 0.15);\n",
              "      filter: drop-shadow(0px 1px 2px rgba(0, 0, 0, 0.3));\n",
              "      fill: #FFFFFF;\n",
              "    }\n",
              "  </style>\n",
              "\n",
              "      <script>\n",
              "        const buttonEl =\n",
              "          document.querySelector('#df-824da161-86e6-432d-bab4-ffe581cd7ac1 button.colab-df-convert');\n",
              "        buttonEl.style.display =\n",
              "          google.colab.kernel.accessAllowed ? 'block' : 'none';\n",
              "\n",
              "        async function convertToInteractive(key) {\n",
              "          const element = document.querySelector('#df-824da161-86e6-432d-bab4-ffe581cd7ac1');\n",
              "          const dataTable =\n",
              "            await google.colab.kernel.invokeFunction('convertToInteractive',\n",
              "                                                     [key], {});\n",
              "          if (!dataTable) return;\n",
              "\n",
              "          const docLinkHtml = 'Like what you see? Visit the ' +\n",
              "            '<a target=\"_blank\" href=https://colab.research.google.com/notebooks/data_table.ipynb>data table notebook</a>'\n",
              "            + ' to learn more about interactive tables.';\n",
              "          element.innerHTML = '';\n",
              "          dataTable['output_type'] = 'display_data';\n",
              "          await google.colab.output.renderOutput(dataTable, element);\n",
              "          const docLink = document.createElement('div');\n",
              "          docLink.innerHTML = docLinkHtml;\n",
              "          element.appendChild(docLink);\n",
              "        }\n",
              "      </script>\n",
              "    </div>\n",
              "  </div>\n",
              "  "
            ]
          },
          "metadata": {},
          "execution_count": 63
        }
      ],
      "source": [
        "## Feature importance in Neural Network\n",
        "\n",
        "cols = x.columns.values\n",
        "nn_featimportance = []\n",
        "for var in cols:\n",
        "    # create a vector corresponding to a 1 where the feature is located:\n",
        "    inputvector = np.array((cols==var).astype(int).reshape(1, -1))\n",
        "    nn_featimportance.append(nn.predict(inputvector)[0][0]*100)\n",
        "\n",
        "pd.DataFrame( nn_featimportance,\n",
        "             index = x.columns,\n",
        "             columns=['importance']).sort_values('importance',ascending=False)    "
      ],
      "id": "aS1xRYVzW1g2"
    },
    {
      "cell_type": "code",
      "execution_count": 63,
      "metadata": {
        "id": "DNZfI_UDW1g3"
      },
      "outputs": [],
      "source": [],
      "id": "DNZfI_UDW1g3"
    },
    {
      "cell_type": "code",
      "execution_count": 63,
      "metadata": {
        "id": "RYQhczGTW1g3"
      },
      "outputs": [],
      "source": [],
      "id": "RYQhczGTW1g3"
    },
    {
      "cell_type": "code",
      "execution_count": 63,
      "metadata": {
        "id": "cTHZGEwvW1g4"
      },
      "outputs": [],
      "source": [],
      "id": "cTHZGEwvW1g4"
    },
    {
      "cell_type": "code",
      "execution_count": 63,
      "metadata": {
        "id": "33iySBMRW1g4"
      },
      "outputs": [],
      "source": [],
      "id": "33iySBMRW1g4"
    }
  ],
  "metadata": {
    "kernelspec": {
      "display_name": "Python 3",
      "language": "python",
      "name": "python3"
    },
    "language_info": {
      "codemirror_mode": {
        "name": "ipython",
        "version": 3
      },
      "file_extension": ".py",
      "mimetype": "text/x-python",
      "name": "python",
      "nbconvert_exporter": "python",
      "pygments_lexer": "ipython3",
      "version": "3.7.8"
    },
    "colab": {
      "provenance": []
    }
  },
  "nbformat": 4,
  "nbformat_minor": 5
}